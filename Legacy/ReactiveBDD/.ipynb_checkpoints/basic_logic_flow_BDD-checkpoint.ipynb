{
 "cells": [
  {
   "cell_type": "code",
   "execution_count": 41,
   "metadata": {},
   "outputs": [],
   "source": [
    "import pandas as pd\n",
    "import json\n",
    "import glob\n",
    "import os       \n",
    "import xlsxwriter"
   ]
  },
  {
   "cell_type": "code",
   "execution_count": 15,
   "metadata": {},
   "outputs": [],
   "source": [
    "# path = \"E:/PhD/Bit Vector Linear Search/MUD_rules\"\n",
    "# file_list = glob.glob(path + \"/*.xlsx\")\n",
    "# excl_list = []\n",
    "# for file in file_list:\n",
    "#     excl_list.append(pd.read_excel(file))\n",
    "# excl_merged = pd.DataFrame()\n",
    "# for excl_file in excl_list:\n",
    "#       excl_merged = excl_merged.append(excl_file, ignore_index=True)\n",
    "# excl_merged.to_csv('total_rules.csv', index=False)"
   ]
  },
  {
   "cell_type": "code",
   "execution_count": 16,
   "metadata": {},
   "outputs": [],
   "source": [
    "# path = \"E:/PhD/Bit Vector Linear Search/MUD_rules\"\n",
    "# file_list = glob.glob(path + \"/*.xlsx\")\n",
    "# excl_list = []\n",
    "# for file in file_list:\n",
    "#     excl_list.append(pd.read_excel(file))\n",
    "# excl_merged = pd.DataFrame()\n",
    "# for excl_file in excl_list:\n",
    "#       excl_merged = excl_merged.append(excl_file, ignore_index=True)\n",
    "# excl_merged.to_csv('total_rules.csv', index=False)"
   ]
  },
  {
   "cell_type": "code",
   "execution_count": 44,
   "metadata": {},
   "outputs": [
    {
     "name": "stdout",
     "output_type": "stream",
     "text": [
      "                sEth               dEth  typEth           Source  \\\n",
      "0  9e:8d:de:80:29:28  ff:ff:ff:ff:ff:ff  0x0800  s1b.time.edu.cn   \n",
      "1                  *  9e:8d:de:80:29:28  0x0800  fr.pool.ntp.org   \n",
      "\n",
      "                  Destination  proto  sPort  dPort   action  \n",
      "0         dcape-na.amazon.com     17    123    443  forward  \n",
      "1  softwareupdates.amazon.com     17    123     80  forward  \n"
     ]
    }
   ],
   "source": [
    "# BASE_DIR = os.getcwd()\n",
    "# csv_path = \"input.csv\"\n",
    "#print(os.path.join(BASE_DIR, csv_path))\n",
    "#df1 = pd.read_csv(os.path.join(BASE_DIR, csv_path))\n",
    "#df1 = pd.read_csv(\"CurrentInput.csv\")\n",
    "df1 = pd.read_csv('input.csv');"
   ]
  },
  {
   "cell_type": "code",
   "execution_count": 46,
   "metadata": {},
   "outputs": [
    {
     "name": "stdout",
     "output_type": "stream",
     "text": [
      "                sEth               dEth  typEth           Source  \\\n",
      "0  9e:8d:de:80:29:28  ff:ff:ff:ff:ff:ff  0x0800  s1b.time.edu.cn   \n",
      "1                  *  9e:8d:de:80:29:28  0x0800  fr.pool.ntp.org   \n",
      "\n",
      "                  Destination  proto  sPort  dPort   action  \n",
      "0         dcape-na.amazon.com     17    123    443  forward  \n",
      "1  softwareupdates.amazon.com     17    123     80  forward  \n"
     ]
    }
   ],
   "source": [
    "print(df1);"
   ]
  },
  {
   "cell_type": "code",
   "execution_count": 47,
   "metadata": {},
   "outputs": [],
   "source": [
    "# column_list = ['sEth','dEth','typEth','proto','sPort',  'dPort', 'Source', 'Destination','action'];\n",
    "# print(column_list)\n",
    "# #state_counter = 1\n",
    "# state_mapping = {}\n",
    "# previous_column = \"\"\n",
    "# previous_column_list = []\n",
    "# previous_column_values = []\n",
    "# #first_counter = True\n",
    "# df_list = []"
   ]
  },
  {
   "cell_type": "code",
   "execution_count": 51,
   "metadata": {},
   "outputs": [],
   "source": [
    "# for column in column_list:\n",
    "#     print(column)"
   ]
  },
  {
   "cell_type": "code",
   "execution_count": 53,
   "metadata": {},
   "outputs": [
    {
     "name": "stdout",
     "output_type": "stream",
     "text": [
      "[['9e:8d:de:80:29:28', 'ff:ff:ff:ff:ff:ff', '0x0800', 's1b.time.edu.cn', 'dcape-na.amazon.com', 17, 123, 443, 'forward'], ['*', '9e:8d:de:80:29:28', '0x0800', 'fr.pool.ntp.org', 'softwareupdates.amazon.com', 17, 123, 80, 'forward']]\n"
     ]
    }
   ],
   "source": [
    "data = df1.values.tolist()\n",
    "print(data)"
   ]
  },
  {
   "cell_type": "code",
   "execution_count": 54,
   "metadata": {},
   "outputs": [],
   "source": [
    "columns = df1.columns"
   ]
  },
  {
   "cell_type": "code",
   "execution_count": 56,
   "metadata": {},
   "outputs": [],
   "source": [
    "# print(len(data))"
   ]
  },
  {
   "cell_type": "code",
   "execution_count": 57,
   "metadata": {},
   "outputs": [],
   "source": [
    "# for i in range(len(data)) :\n",
    "#     #length=len(data[i])\n",
    "#     for j in range(len(data[i])) :\n",
    "#         print(columns[j])"
   ]
  },
  {
   "cell_type": "code",
   "execution_count": 58,
   "metadata": {},
   "outputs": [],
   "source": [
    "# a=['Q34','W34','V34','Z34','X34','R34','N34']\n",
    "# b=[]"
   ]
  },
  {
   "cell_type": "code",
   "execution_count": 59,
   "metadata": {},
   "outputs": [],
   "source": [
    "length=len(data[0]);\n",
    "\n",
    "#for j in range(0,length-3):\n",
    "    #sheet_name1= a[j]\n",
    "    #print(sheet_name1)\n",
    "    #outsheet2=outworkbook.add_worksheet(sheet_name1)"
   ]
  },
  {
   "cell_type": "code",
   "execution_count": 60,
   "metadata": {},
   "outputs": [],
   "source": [
    "# print(outsheet2)"
   ]
  },
  {
   "cell_type": "code",
   "execution_count": 72,
   "metadata": {},
   "outputs": [],
   "source": [
    "outworkbook=xlsxwriter.Workbook(\"OutputBDD.xlsx\");"
   ]
  },
  {
   "cell_type": "code",
   "execution_count": 69,
   "metadata": {},
   "outputs": [],
   "source": [
    "for j in range(0,length):\n",
    "    outsheetj=outworkbook.add_worksheet(columns[j]);"
   ]
  },
  {
   "cell_type": "code",
   "execution_count": 70,
   "metadata": {},
   "outputs": [
    {
     "data": {
      "text/plain": [
       "{'sEth': <xlsxwriter.worksheet.Worksheet at 0x1e0da163910>,\n",
       " 'dEth': <xlsxwriter.worksheet.Worksheet at 0x1e0da163220>,\n",
       " 'typEth': <xlsxwriter.worksheet.Worksheet at 0x1e0da163f70>,\n",
       " 'Source': <xlsxwriter.worksheet.Worksheet at 0x1e0da163160>,\n",
       " 'Destination': <xlsxwriter.worksheet.Worksheet at 0x1e0da163430>,\n",
       " 'proto': <xlsxwriter.worksheet.Worksheet at 0x1e0da1633a0>,\n",
       " 'sPort': <xlsxwriter.worksheet.Worksheet at 0x1e0d7c2a4f0>,\n",
       " 'dPort': <xlsxwriter.worksheet.Worksheet at 0x1e0d7c2a0a0>,\n",
       " 'action': <xlsxwriter.worksheet.Worksheet at 0x1e0d7c2a070>}"
      ]
     },
     "execution_count": 70,
     "metadata": {},
     "output_type": "execute_result"
    }
   ],
   "source": [
    "outworkbook.sheetnames"
   ]
  },
  {
   "cell_type": "code",
   "execution_count": 77,
   "metadata": {},
   "outputs": [
    {
     "name": "stdout",
     "output_type": "stream",
     "text": [
      "9e:8d:de:80:29:28 - 1\n",
      "1 - ff:ff:ff:ff:ff:ff - 2\n"
     ]
    },
    {
     "ename": "KeyError",
     "evalue": "'dEth'",
     "output_type": "error",
     "traceback": [
      "\u001b[1;31m---------------------------------------------------------------------------\u001b[0m",
      "\u001b[1;31mKeyError\u001b[0m                                  Traceback (most recent call last)",
      "\u001b[1;32m<ipython-input-77-642ea0600920>\u001b[0m in \u001b[0;36m<module>\u001b[1;34m\u001b[0m\n\u001b[0;32m     40\u001b[0m             \u001b[1;31m#outsheetj.write(i+1,1,data[i][j])\u001b[0m\u001b[1;33m\u001b[0m\u001b[1;33m\u001b[0m\u001b[1;33m\u001b[0m\u001b[0m\n\u001b[0;32m     41\u001b[0m             \u001b[1;31m#outsheetj.write(i+1,2,counter)\u001b[0m\u001b[1;33m\u001b[0m\u001b[1;33m\u001b[0m\u001b[1;33m\u001b[0m\u001b[0m\n\u001b[1;32m---> 42\u001b[1;33m             \u001b[0moutworkbook\u001b[0m\u001b[1;33m.\u001b[0m\u001b[0msheetnames\u001b[0m\u001b[1;33m[\u001b[0m\u001b[0mcolumns\u001b[0m\u001b[1;33m[\u001b[0m\u001b[0mj\u001b[0m\u001b[1;33m]\u001b[0m\u001b[1;33m]\u001b[0m\u001b[1;33m.\u001b[0m\u001b[0mwrite\u001b[0m\u001b[1;33m(\u001b[0m\u001b[1;34m\"A1\"\u001b[0m\u001b[1;33m,\u001b[0m\u001b[1;34m\"Previous_state\"\u001b[0m\u001b[1;33m)\u001b[0m\u001b[1;33m\u001b[0m\u001b[1;33m\u001b[0m\u001b[0m\n\u001b[0m\u001b[0;32m     43\u001b[0m             \u001b[0moutworkbook\u001b[0m\u001b[1;33m.\u001b[0m\u001b[0msheetnames\u001b[0m\u001b[1;33m[\u001b[0m\u001b[0mcolumns\u001b[0m\u001b[1;33m[\u001b[0m\u001b[0mj\u001b[0m\u001b[1;33m]\u001b[0m\u001b[1;33m]\u001b[0m\u001b[1;33m.\u001b[0m\u001b[0mwrite\u001b[0m\u001b[1;33m(\u001b[0m\u001b[1;34m\"B1\"\u001b[0m\u001b[1;33m,\u001b[0m \u001b[0mcolumns\u001b[0m\u001b[1;33m[\u001b[0m\u001b[0mj\u001b[0m\u001b[1;33m]\u001b[0m\u001b[1;33m)\u001b[0m\u001b[1;33m\u001b[0m\u001b[1;33m\u001b[0m\u001b[0m\n\u001b[0;32m     44\u001b[0m             \u001b[0moutworkbook\u001b[0m\u001b[1;33m.\u001b[0m\u001b[0msheetnames\u001b[0m\u001b[1;33m[\u001b[0m\u001b[0mcolumns\u001b[0m\u001b[1;33m[\u001b[0m\u001b[0mj\u001b[0m\u001b[1;33m]\u001b[0m\u001b[1;33m]\u001b[0m\u001b[1;33m.\u001b[0m\u001b[0mwrite\u001b[0m\u001b[1;33m(\u001b[0m\u001b[1;34m\"C1\"\u001b[0m\u001b[1;33m,\u001b[0m\u001b[1;34m\"next_state\"\u001b[0m\u001b[1;33m)\u001b[0m\u001b[1;33m\u001b[0m\u001b[1;33m\u001b[0m\u001b[0m\n",
      "\u001b[1;31mKeyError\u001b[0m: 'dEth'"
     ]
    }
   ],
   "source": [
    "counter=1\n",
    "\n",
    "# length=len(data)\n",
    "# length=len(data[i]);\n",
    "for i in range(len(data)) :\n",
    "    for j in range(len(data[i])) :\n",
    "        if j==0:\n",
    "            print(data[i][j],'-',counter)\n",
    "            outsheet.write(\"A1\",\"sEth\")\n",
    "            outsheet.write(\"B1\",\"state\")\n",
    "            \n",
    "            existsFlag = 1;\n",
    "            for k in range(0,i):\n",
    "                if data[k][j] == data[i][j]:\n",
    "                    existsFlag = 0;\n",
    "            \n",
    "            if existsFlag: \n",
    "                outsheet.write(i+1,0,data[i][j])\n",
    "                #print(i)\n",
    "                #k=k+1\n",
    "                outsheet.write(i+1,1,counter)\n",
    "                #m=m+1\n",
    "                previous_counter=counter\n",
    "                counter=counter+1\n",
    "        elif j==length-1:\n",
    "            print(previous_counter,'-',data[i][j])\n",
    "            outsheet8.write(\"A1\",\"Previous_state\")\n",
    "            outsheet8.write(\"B1\",\"Action\")\n",
    "            outsheet8.write(i+1,0,previous_counter)\n",
    "            #n=n+1\n",
    "            outsheet8.write(i+1,1,data[i][j])\n",
    "            #o=o+1\n",
    "            #counter=counter+1\n",
    "        else:\n",
    "            print(previous_counter,'-',data[i][j],'-',counter)\n",
    "            #outsheetj.write(\"A1\",\"Previous_state\")\n",
    "            #outsheetj.write(\"B1\",columns[j])\n",
    "            #outsheetj.write(\"C1\",\"next_state\")\n",
    "            #outsheetj.write(i+1,0,previous_counter)\n",
    "            #outsheetj.write(i+1,1,data[i][j])\n",
    "            #outsheetj.write(i+1,2,counter)\n",
    "            outworkbook.sheetnames[columns[j]].write(\"A1\",\"Previous_state\")\n",
    "            outworkbook.sheetnames[columns[j]].write(\"B1\", columns[j]) \n",
    "            outworkbook.sheetnames[columns[j]].write(\"C1\",\"next_state\")\n",
    "            outworkbook.sheetnames[columns[j]].write(i+1,0,previous_counter)\n",
    "            outworkbook.sheetnames[columns[j]].write(i+1,1,data[i][j])\n",
    "            outworkbook.sheetnames[columns[j]].write(i+1,2,counter)\n",
    "            #sheet_name1.write()\n",
    "            #sheet_name=columns[j]\n",
    "            #print(column[j])\n",
    "            #worksheet=outworkbook.add_worksheet(sheet_name)\n",
    "            previous_counter=counter\n",
    "            counter=counter+1\n",
    "            "
   ]
  },
  {
   "cell_type": "code",
   "execution_count": 78,
   "metadata": {},
   "outputs": [
    {
     "name": "stderr",
     "output_type": "stream",
     "text": [
      "C:\\Users\\GMAX\\anaconda3\\lib\\site-packages\\xlsxwriter\\workbook.py:336: UserWarning: Calling close() on already closed file.\n",
      "  warn(\"Calling close() on already closed file.\")\n"
     ]
    }
   ],
   "source": [
    "outworkbook.close()"
   ]
  },
  {
   "cell_type": "code",
   "execution_count": 75,
   "metadata": {},
   "outputs": [],
   "source": [
    "# counter=1\n",
    "# length=len(data)\n",
    "# for i in range(len(data)) :\n",
    "#     length=len(data[i])\n",
    "#     for j in range(len(data[i])) :\n",
    "#         if j==0:\n",
    "#             print(data[i][j],'-',counter)\n",
    "#             #outsheet.write(\"A1\",\"data[i][j]\")\n",
    "#             #outsheet.write(\"B1\",\"counter\")\n",
    "#             previous_counter=counter\n",
    "#             counter=counter+1\n",
    "#         elif j==length-1:\n",
    "#             print(previous_counter,'-',data[i][j])\n",
    "#             #counter=counter+1\n",
    "#         else:\n",
    "#             print(previous_counter,'-',data[i][j],'-',counter)\n",
    "#             previous_counter=counter\n",
    "#             counter=counter+1\n",
    "            "
   ]
  },
  {
   "cell_type": "code",
   "execution_count": 76,
   "metadata": {},
   "outputs": [],
   "source": [
    "# for i in range(len(data)) :\n",
    "#     for j in range(len(data[i])) :\n",
    "#         length=len(data[i])\n",
    "# print(length)"
   ]
  }
 ],
 "metadata": {
  "kernelspec": {
   "display_name": "Python 3",
   "language": "python",
   "name": "python3"
  },
  "language_info": {
   "codemirror_mode": {
    "name": "ipython",
    "version": 3
   },
   "file_extension": ".py",
   "mimetype": "text/x-python",
   "name": "python",
   "nbconvert_exporter": "python",
   "pygments_lexer": "ipython3",
   "version": "3.8.8"
  }
 },
 "nbformat": 4,
 "nbformat_minor": 4
}
