{
 "cells": [
  {
   "cell_type": "code",
   "execution_count": 1,
   "metadata": {},
   "outputs": [],
   "source": [
    "import json\n",
    "import numpy as np\n",
    "import pandas as pd\n",
    "pd.set_option('display.max_rows', None)"
   ]
  },
  {
   "cell_type": "code",
   "execution_count": 2,
   "metadata": {},
   "outputs": [],
   "source": [
    "data =pd.read_excel(\"C:/Users/Sankar/SDN Project/Project_data_final.xlsx\")"
   ]
  },
  {
   "cell_type": "code",
   "execution_count": 3,
   "metadata": {},
   "outputs": [
    {
     "data": {
      "text/plain": [
       "Index(['sEth', 'dEth', 'typEth', 'Source', 'Destination', 'proto', 'sPort',\n",
       "       'dPort', 'priority', 'action'],\n",
       "      dtype='object')"
      ]
     },
     "execution_count": 3,
     "metadata": {},
     "output_type": "execute_result"
    }
   ],
   "source": [
    "data.columns"
   ]
  },
  {
   "cell_type": "code",
   "execution_count": 4,
   "metadata": {},
   "outputs": [
    {
     "data": {
      "text/html": [
       "<div>\n",
       "<style scoped>\n",
       "    .dataframe tbody tr th:only-of-type {\n",
       "        vertical-align: middle;\n",
       "    }\n",
       "\n",
       "    .dataframe tbody tr th {\n",
       "        vertical-align: top;\n",
       "    }\n",
       "\n",
       "    .dataframe thead th {\n",
       "        text-align: right;\n",
       "    }\n",
       "</style>\n",
       "<table border=\"1\" class=\"dataframe\">\n",
       "  <thead>\n",
       "    <tr style=\"text-align: right;\">\n",
       "      <th></th>\n",
       "      <th>sEth</th>\n",
       "      <th>dEth</th>\n",
       "      <th>typEth</th>\n",
       "      <th>Source</th>\n",
       "      <th>Destination</th>\n",
       "      <th>proto</th>\n",
       "      <th>sPort</th>\n",
       "      <th>dPort</th>\n",
       "      <th>priority</th>\n",
       "      <th>action</th>\n",
       "    </tr>\n",
       "  </thead>\n",
       "  <tbody>\n",
       "    <tr>\n",
       "      <td>0</td>\n",
       "      <td>9e:8d:de:80:29:28</td>\n",
       "      <td>*</td>\n",
       "      <td>*</td>\n",
       "      <td>*</td>\n",
       "      <td>dcape-na.amazon.com</td>\n",
       "      <td>6</td>\n",
       "      <td>*</td>\n",
       "      <td>443</td>\n",
       "      <td>*</td>\n",
       "      <td>forward</td>\n",
       "    </tr>\n",
       "    <tr>\n",
       "      <td>1</td>\n",
       "      <td>9e:8d:de:80:29:28</td>\n",
       "      <td>*</td>\n",
       "      <td>*</td>\n",
       "      <td>*</td>\n",
       "      <td>softwareupdates.amazon.com</td>\n",
       "      <td>6</td>\n",
       "      <td>*</td>\n",
       "      <td>443</td>\n",
       "      <td>*</td>\n",
       "      <td>forward</td>\n",
       "    </tr>\n",
       "    <tr>\n",
       "      <td>2</td>\n",
       "      <td>9e:8d:de:80:29:28</td>\n",
       "      <td>*</td>\n",
       "      <td>*</td>\n",
       "      <td>*</td>\n",
       "      <td>3.north-america.pool.ntp.org</td>\n",
       "      <td>17</td>\n",
       "      <td>*</td>\n",
       "      <td>123</td>\n",
       "      <td>*</td>\n",
       "      <td>forward</td>\n",
       "    </tr>\n",
       "    <tr>\n",
       "      <td>3</td>\n",
       "      <td>9e:8d:de:80:29:28</td>\n",
       "      <td>*</td>\n",
       "      <td>*</td>\n",
       "      <td>*</td>\n",
       "      <td>224.0.0.22/32</td>\n",
       "      <td>2</td>\n",
       "      <td>*</td>\n",
       "      <td>*</td>\n",
       "      <td>*</td>\n",
       "      <td>forward</td>\n",
       "    </tr>\n",
       "    <tr>\n",
       "      <td>4</td>\n",
       "      <td>9e:8d:de:80:29:28</td>\n",
       "      <td>*</td>\n",
       "      <td>*</td>\n",
       "      <td>*</td>\n",
       "      <td>239.255.255.250/32</td>\n",
       "      <td>17</td>\n",
       "      <td>*</td>\n",
       "      <td>1900</td>\n",
       "      <td>*</td>\n",
       "      <td>forward</td>\n",
       "    </tr>\n",
       "  </tbody>\n",
       "</table>\n",
       "</div>"
      ],
      "text/plain": [
       "                sEth dEth typEth Source                   Destination proto  \\\n",
       "0  9e:8d:de:80:29:28    *      *      *           dcape-na.amazon.com     6   \n",
       "1  9e:8d:de:80:29:28    *      *      *    softwareupdates.amazon.com     6   \n",
       "2  9e:8d:de:80:29:28    *      *      *  3.north-america.pool.ntp.org    17   \n",
       "3  9e:8d:de:80:29:28    *      *      *                 224.0.0.22/32     2   \n",
       "4  9e:8d:de:80:29:28    *      *      *            239.255.255.250/32    17   \n",
       "\n",
       "  sPort dPort priority   action  \n",
       "0     *   443        *  forward  \n",
       "1     *   443        *  forward  \n",
       "2     *   123        *  forward  \n",
       "3     *     *        *  forward  \n",
       "4     *  1900        *  forward  "
      ]
     },
     "execution_count": 4,
     "metadata": {},
     "output_type": "execute_result"
    }
   ],
   "source": [
    "data.head()"
   ]
  },
  {
   "cell_type": "code",
   "execution_count": 5,
   "metadata": {},
   "outputs": [],
   "source": [
    "data1 =data.drop(['action'],axis=1)"
   ]
  },
  {
   "cell_type": "code",
   "execution_count": 6,
   "metadata": {},
   "outputs": [
    {
     "data": {
      "text/html": [
       "<div>\n",
       "<style scoped>\n",
       "    .dataframe tbody tr th:only-of-type {\n",
       "        vertical-align: middle;\n",
       "    }\n",
       "\n",
       "    .dataframe tbody tr th {\n",
       "        vertical-align: top;\n",
       "    }\n",
       "\n",
       "    .dataframe thead th {\n",
       "        text-align: right;\n",
       "    }\n",
       "</style>\n",
       "<table border=\"1\" class=\"dataframe\">\n",
       "  <thead>\n",
       "    <tr style=\"text-align: right;\">\n",
       "      <th></th>\n",
       "      <th>sEth</th>\n",
       "      <th>dEth</th>\n",
       "      <th>typEth</th>\n",
       "      <th>Source</th>\n",
       "      <th>Destination</th>\n",
       "      <th>proto</th>\n",
       "      <th>sPort</th>\n",
       "      <th>dPort</th>\n",
       "      <th>priority</th>\n",
       "    </tr>\n",
       "  </thead>\n",
       "  <tbody>\n",
       "    <tr>\n",
       "      <td>0</td>\n",
       "      <td>9e:8d:de:80:29:28</td>\n",
       "      <td>*</td>\n",
       "      <td>*</td>\n",
       "      <td>*</td>\n",
       "      <td>dcape-na.amazon.com</td>\n",
       "      <td>6</td>\n",
       "      <td>*</td>\n",
       "      <td>443</td>\n",
       "      <td>*</td>\n",
       "    </tr>\n",
       "    <tr>\n",
       "      <td>1</td>\n",
       "      <td>9e:8d:de:80:29:28</td>\n",
       "      <td>*</td>\n",
       "      <td>*</td>\n",
       "      <td>*</td>\n",
       "      <td>softwareupdates.amazon.com</td>\n",
       "      <td>6</td>\n",
       "      <td>*</td>\n",
       "      <td>443</td>\n",
       "      <td>*</td>\n",
       "    </tr>\n",
       "    <tr>\n",
       "      <td>2</td>\n",
       "      <td>9e:8d:de:80:29:28</td>\n",
       "      <td>*</td>\n",
       "      <td>*</td>\n",
       "      <td>*</td>\n",
       "      <td>3.north-america.pool.ntp.org</td>\n",
       "      <td>17</td>\n",
       "      <td>*</td>\n",
       "      <td>123</td>\n",
       "      <td>*</td>\n",
       "    </tr>\n",
       "    <tr>\n",
       "      <td>3</td>\n",
       "      <td>9e:8d:de:80:29:28</td>\n",
       "      <td>*</td>\n",
       "      <td>*</td>\n",
       "      <td>*</td>\n",
       "      <td>224.0.0.22/32</td>\n",
       "      <td>2</td>\n",
       "      <td>*</td>\n",
       "      <td>*</td>\n",
       "      <td>*</td>\n",
       "    </tr>\n",
       "    <tr>\n",
       "      <td>4</td>\n",
       "      <td>9e:8d:de:80:29:28</td>\n",
       "      <td>*</td>\n",
       "      <td>*</td>\n",
       "      <td>*</td>\n",
       "      <td>239.255.255.250/32</td>\n",
       "      <td>17</td>\n",
       "      <td>*</td>\n",
       "      <td>1900</td>\n",
       "      <td>*</td>\n",
       "    </tr>\n",
       "  </tbody>\n",
       "</table>\n",
       "</div>"
      ],
      "text/plain": [
       "                sEth dEth typEth Source                   Destination proto  \\\n",
       "0  9e:8d:de:80:29:28    *      *      *           dcape-na.amazon.com     6   \n",
       "1  9e:8d:de:80:29:28    *      *      *    softwareupdates.amazon.com     6   \n",
       "2  9e:8d:de:80:29:28    *      *      *  3.north-america.pool.ntp.org    17   \n",
       "3  9e:8d:de:80:29:28    *      *      *                 224.0.0.22/32     2   \n",
       "4  9e:8d:de:80:29:28    *      *      *            239.255.255.250/32    17   \n",
       "\n",
       "  sPort dPort priority  \n",
       "0     *   443        *  \n",
       "1     *   443        *  \n",
       "2     *   123        *  \n",
       "3     *     *        *  \n",
       "4     *  1900        *  "
      ]
     },
     "execution_count": 6,
     "metadata": {},
     "output_type": "execute_result"
    }
   ],
   "source": [
    "data1.head()"
   ]
  },
  {
   "cell_type": "code",
   "execution_count": 7,
   "metadata": {},
   "outputs": [
    {
     "name": "stdout",
     "output_type": "stream",
     "text": [
      "{'sEth': {}, 'dEth': {}, 'typEth': {}, 'Source': {}, 'Destination': {}, 'proto': {}, 'sPort': {}, 'dPort': {}, 'priority': {}}\n"
     ]
    }
   ],
   "source": [
    "dict={}\n",
    "\n",
    "for col in data1.columns:\n",
    "    dict.update({col:{}})\n",
    "print(dict)"
   ]
  },
  {
   "cell_type": "code",
   "execution_count": 8,
   "metadata": {},
   "outputs": [
    {
     "name": "stdout",
     "output_type": "stream",
     "text": [
      "<class 'numpy.ndarray'>\n"
     ]
    }
   ],
   "source": [
    "default_bitarray = np.full(data1.shape[0], False)\n",
    "print(type(default_bitarray))"
   ]
  },
  {
   "cell_type": "code",
   "execution_count": 9,
   "metadata": {},
   "outputs": [
    {
     "data": {
      "text/plain": [
       "Index(['sEth', 'dEth', 'typEth', 'Source', 'Destination', 'proto', 'sPort',\n",
       "       'dPort', 'priority'],\n",
       "      dtype='object')"
      ]
     },
     "execution_count": 9,
     "metadata": {},
     "output_type": "execute_result"
    }
   ],
   "source": [
    "colnames_list = data1.columns\n",
    "colnames_list"
   ]
  },
  {
   "cell_type": "code",
   "execution_count": 10,
   "metadata": {},
   "outputs": [],
   "source": [
    "for k in colnames_list:\n",
    "    d=dict.get(k)\n",
    "    j=0\n",
    "    for x in data1[k]:\n",
    "        temp=d.get(x)\n",
    "                   \n",
    "        if(temp is None):\n",
    "            y=default_bitarray.copy()\n",
    "            y[j]=True\n",
    "            if(d.get('*') is not None):\n",
    "                y=np.bitwise_or(y,d.get('*'))\n",
    "            d.update({x:y})\n",
    "        else:\n",
    "            temp[j]=True\n",
    "            d.update({x:temp})\n",
    "        if(x=='*'):\n",
    "            z=d.get(x)\n",
    "            for s,t in d.items():\n",
    "                d.update({s:np.bitwise_or(z,t)})\n",
    "            \n",
    "        j=j+1\n",
    "    ##print(d)"
   ]
  },
  {
   "cell_type": "code",
   "execution_count": 11,
   "metadata": {},
   "outputs": [],
   "source": [
    "test={'sEth':'9e:8d:de:80:29:28','dEth':'*','typEth':'*','Source':'*','Destination':'3.north-america.pool.ntp.org','proto':6,'sPort':'*','dPort':443,'priority':'*'}"
   ]
  },
  {
   "cell_type": "code",
   "execution_count": 12,
   "metadata": {},
   "outputs": [],
   "source": [
    "test1={'sEth':'*','dEth':'*','typEth':'*','Source':'*','Destination':'*','proto':'*','sPort':'*','dPort':'*','priority':'*'}"
   ]
  },
  {
   "cell_type": "code",
   "execution_count": 13,
   "metadata": {},
   "outputs": [],
   "source": [
    "def bitvector_linearsearch(inputpacket):\n",
    "    res_bitvector_col=np.full(data1.shape[0],True)\n",
    "    for k,v in inputpacket.items():\n",
    "        temp = dict.get(k)\n",
    "       \n",
    "        bitvector_col = temp.get(v)\n",
    "        \n",
    "        if(bitvector_col is None):\n",
    "            bitvector_col= temp.get('*')\n",
    "        res_bitvector_col = np.bitwise_and(res_bitvector_col,bitvector_col)\n",
    "    index=0\n",
    "    for bit in res_bitvector_col:\n",
    "        if(bit==True):\n",
    "            break;\n",
    "        else:\n",
    "            index=index+1\n",
    "    if(index==len(bitvector_col)):\n",
    "        print(\"error\")\n",
    "    else:\n",
    "        print(\" Rule no is:\"+(str(index+1))+\" Action is:\"+ data['action'][index])\n",
    "    "
   ]
  },
  {
   "cell_type": "code",
   "execution_count": 14,
   "metadata": {
    "scrolled": true
   },
   "outputs": [
    {
     "name": "stdout",
     "output_type": "stream",
     "text": [
      " Rule no is:568 Action is:forward\n"
     ]
    }
   ],
   "source": [
    "bitvector_linearsearch(test)"
   ]
  }
 ],
 "metadata": {
  "kernelspec": {
   "display_name": "Python 3",
   "language": "python",
   "name": "python3"
  },
  "language_info": {
   "codemirror_mode": {
    "name": "ipython",
    "version": 3
   },
   "file_extension": ".py",
   "mimetype": "text/x-python",
   "name": "python",
   "nbconvert_exporter": "python",
   "pygments_lexer": "ipython3",
   "version": "3.7.4"
  }
 },
 "nbformat": 4,
 "nbformat_minor": 2
}
