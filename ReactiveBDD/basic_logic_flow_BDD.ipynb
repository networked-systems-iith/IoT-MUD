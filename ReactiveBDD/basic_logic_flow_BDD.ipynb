{
 "cells": [
  {
   "cell_type": "code",
   "execution_count": 1,
   "metadata": {},
   "outputs": [],
   "source": [
    "import pandas as pd\n",
    "import json\n",
    "import glob\n",
    "import os       \n",
    "import xlsxwriter"
   ]
  },
  {
   "cell_type": "code",
   "execution_count": 2,
   "metadata": {},
   "outputs": [],
   "source": [
    "df1 = pd.read_csv (r'./total_rules.csv') "
   ]
  },
  {
   "cell_type": "code",
   "execution_count": 3,
   "metadata": {},
   "outputs": [
    {
     "name": "stdout",
     "output_type": "stream",
     "text": [
      "                sEth               dEth  typEth           Source  \\\n",
      "0  9e:8d:de:80:29:28  ff:ff:ff:ff:ff:ff  0x0800  s1b.time.edu.cn   \n",
      "1                  *  9e:8d:de:80:29:28  0x0800  fr.pool.ntp.org   \n",
      "2  9e:8d:de:80:29:28  ff:ff:ff:ff:ff:ff  0x0800  de.pool.ntp.org   \n",
      "\n",
      "                    Destination  proto  sPort  dPort   action  \n",
      "0           dcape-na.amazon.com     17    123    443  forward  \n",
      "1    softwareupdates.amazon.com     17    123     80  forward  \n",
      "2  3.north-america.pool.ntp.org     17    123     53  forward  \n"
     ]
    }
   ],
   "source": [
    "print(df1)"
   ]
  },
  {
   "cell_type": "code",
   "execution_count": 4,
   "metadata": {},
   "outputs": [
    {
     "name": "stdout",
     "output_type": "stream",
     "text": [
      "[['9e:8d:de:80:29:28', 'ff:ff:ff:ff:ff:ff', '0x0800', 's1b.time.edu.cn', 'dcape-na.amazon.com', 17, 123, 443, 'forward'], ['*', '9e:8d:de:80:29:28', '0x0800', 'fr.pool.ntp.org', 'softwareupdates.amazon.com', 17, 123, 80, 'forward'], ['9e:8d:de:80:29:28', 'ff:ff:ff:ff:ff:ff', '0x0800', 'de.pool.ntp.org', '3.north-america.pool.ntp.org', 17, 123, 53, 'forward']]\n"
     ]
    }
   ],
   "source": [
    "data=df1.values.tolist()\n",
    "print(data)"
   ]
  },
  {
   "cell_type": "code",
   "execution_count": 5,
   "metadata": {},
   "outputs": [],
   "source": [
    "columns=df1.columns"
   ]
  },
  {
   "cell_type": "code",
   "execution_count": 6,
   "metadata": {},
   "outputs": [],
   "source": [
    "#for i in range(len(data)):\n",
    "length=len(data[0])"
   ]
  },
  {
   "cell_type": "code",
   "execution_count": 8,
   "metadata": {},
   "outputs": [],
   "source": [
    "outworkbook=xlsxwriter.Workbook(\"out.xlsx\")\n",
    "#outsheet=outworkbook.add_worksheet()\n",
    "#outsheet8=outworkbook.add_worksheet()"
   ]
  },
  {
   "cell_type": "code",
   "execution_count": 7,
   "metadata": {},
   "outputs": [],
   "source": [
    "workbook1=xlsxwriter.Workbook(\"output.xlsx\")"
   ]
  },
  {
   "cell_type": "code",
   "execution_count": 8,
   "metadata": {},
   "outputs": [],
   "source": [
    "for j in range(0,length):\n",
    "    outsheet=workbook1.add_worksheet(columns[j])"
   ]
  },
  {
   "cell_type": "code",
   "execution_count": 9,
   "metadata": {},
   "outputs": [
    {
     "data": {
      "text/plain": [
       "{'sEth': <xlsxwriter.worksheet.Worksheet at 0x4170a48>,\n",
       " 'dEth': <xlsxwriter.worksheet.Worksheet at 0x4170b68>,\n",
       " 'typEth': <xlsxwriter.worksheet.Worksheet at 0x4170b98>,\n",
       " 'Source': <xlsxwriter.worksheet.Worksheet at 0x4170bb0>,\n",
       " 'Destination': <xlsxwriter.worksheet.Worksheet at 0x4170be0>,\n",
       " 'proto': <xlsxwriter.worksheet.Worksheet at 0x4170b20>,\n",
       " 'sPort': <xlsxwriter.worksheet.Worksheet at 0x4170b38>,\n",
       " 'dPort': <xlsxwriter.worksheet.Worksheet at 0x4170af0>,\n",
       " 'action': <xlsxwriter.worksheet.Worksheet at 0x4170b08>}"
      ]
     },
     "execution_count": 9,
     "metadata": {},
     "output_type": "execute_result"
    }
   ],
   "source": [
    "workbook1.sheetnames"
   ]
  },
  {
   "cell_type": "code",
   "execution_count": 70,
   "metadata": {},
   "outputs": [],
   "source": [
    "counter=1\n",
    "count=[]"
   ]
  },
  {
   "cell_type": "code",
   "execution_count": 62,
   "metadata": {},
   "outputs": [
    {
     "name": "stdout",
     "output_type": "stream",
     "text": [
      "9e:8d:de:80:29:28 - 1\n",
      "1 - ff:ff:ff:ff:ff:ff - 2\n",
      "2 - 0x0800 - 3\n",
      "3 - s1b.time.edu.cn - 4\n",
      "4 - dcape-na.amazon.com - 5\n",
      "5 - 17 - 6\n",
      "6 - 123 - 7\n",
      "7 - 443 - 8\n",
      "8 - forward\n",
      "* - 9\n",
      "9 - 9e:8d:de:80:29:28 - 10\n",
      "10 - 0x0800 - 11\n",
      "11 - fr.pool.ntp.org - 12\n",
      "12 - softwareupdates.amazon.com - 13\n",
      "13 - 17 - 14\n",
      "14 - 123 - 15\n",
      "15 - 80 - 16\n",
      "16 - forward\n",
      "9e:8d:de:80:29:28 - 17\n",
      "17 - ff:ff:ff:ff:ff:ff - 18\n",
      "18 - 0x0800 - 19\n",
      "19 - de.pool.ntp.org - 20\n",
      "20 - 3.north-america.pool.ntp.org - 21\n",
      "21 - 17 - 22\n",
      "22 - 123 - 23\n",
      "23 - 53 - 24\n",
      "24 - forward\n"
     ]
    }
   ],
   "source": [
    "length=len(data)\n",
    "for i in range(len(data)) :\n",
    "    length=len(data[i])\n",
    "    for j in range(len(data[i])) :\n",
    "        if j==0:\n",
    "            print(data[i][j],'-',counter)\n",
    "            workbook1.sheetnames[columns[j]].write(\"A1\",\"sEth\")\n",
    "            workbook1.sheetnames[columns[j]].write(\"B1\",\"state\")\n",
    "            #for k in range(0,len(data)):\n",
    "                #if data[k][j]==data[i][j]:\n",
    "                    #break\n",
    "                    \n",
    "            workbook1.sheetnames[columns[j]].write(i+1,0,data[i][j])\n",
    "            #print(i)\n",
    "            #k=k+1\n",
    "            workbook1.sheetnames[columns[j]].write(i+1,1,counter)\n",
    "            count.append(counter)\n",
    "            #print(i)\n",
    "            #m=m+1\n",
    "            previous_counter=counter\n",
    "            counter=counter+1\n",
    "        elif j==length-1:\n",
    "            print(previous_counter,'-',data[i][j])\n",
    "            workbook1.sheetnames[columns[j]].write(\"A1\",\"Previous_state\")\n",
    "            workbook1.sheetnames[columns[j]].write(\"B1\",\"Action\")\n",
    "            workbook1.sheetnames[columns[j]].write(i+1,0,previous_counter)\n",
    "            #n=n+1\n",
    "            workbook1.sheetnames[columns[j]].write(i+1,1,data[i][j])\n",
    "            #o=o+1\n",
    "            #counter=counter+1\n",
    "        else:\n",
    "            print(previous_counter,'-',data[i][j],'-',counter)\n",
    "            #outsheetj.write(\"A1\",\"Previous_state\")\n",
    "            #outsheetj.write(\"B1\",columns[j])\n",
    "            #outsheetj.write(\"C1\",\"next_state\")\n",
    "            #outsheetj.write(i+1,0,previous_counter)\n",
    "            #outsheetj.write(i+1,1,data[i][j])\n",
    "            #outsheetj.write(i+1,2,counter)\n",
    "            workbook1.sheetnames[columns[j]].write(\"A1\",\"Previous_state\")\n",
    "            workbook1.sheetnames[columns[j]].write(\"B1\", columns[j]) \n",
    "            workbook1.sheetnames[columns[j]].write(\"C1\",\"next_state\")\n",
    "            workbook1.sheetnames[columns[j]].write(i+1,0,previous_counter)\n",
    "            workbook1.sheetnames[columns[j]].write(i+1,1,data[i][j])\n",
    "            workbook1.sheetnames[columns[j]].write(i+1,2,counter)\n",
    "            #sheet_name1.write()\n",
    "            #sheet_name=columns[j]\n",
    "            #print(column[j])\n",
    "            #worksheet=outworkbook.add_worksheet(sheet_name)\n",
    "            previous_counter=counter\n",
    "            counter=counter+1\n",
    "            "
   ]
  },
  {
   "cell_type": "code",
   "execution_count": 11,
   "metadata": {},
   "outputs": [],
   "source": [
    "workbook1.close()"
   ]
  },
  {
   "cell_type": "code",
   "execution_count": 10,
   "metadata": {},
   "outputs": [
    {
     "name": "stdout",
     "output_type": "stream",
     "text": [
      "9e:8d:de:80:29:28 - 1\n",
      "1 - ff:ff:ff:ff:ff:ff - 2\n",
      "2 - 0x0800 - 3\n",
      "3 - s1b.time.edu.cn - 4\n",
      "4 - dcape-na.amazon.com - 5\n",
      "5 - 17 - 6\n",
      "6 - 123 - 7\n",
      "7 - 443 - 8\n",
      "8 - forward\n",
      "* - 9\n",
      "9 - 9e:8d:de:80:29:28 - 10\n",
      "10 - 0x0800 - 11\n",
      "11 - fr.pool.ntp.org - 12\n",
      "12 - softwareupdates.amazon.com - 13\n",
      "13 - 17 - 14\n",
      "14 - 123 - 15\n",
      "15 - 80 - 16\n",
      "16 - forward\n",
      "9e:8d:de:80:29:28 - 1\n",
      "1 - ff:ff:ff:ff:ff:ff - 17\n",
      "17 - 0x0800 - 18\n",
      "18 - de.pool.ntp.org - 19\n",
      "19 - 3.north-america.pool.ntp.org - 20\n",
      "20 - 17 - 21\n",
      "21 - 123 - 22\n",
      "22 - 53 - 23\n",
      "23 - forward\n"
     ]
    }
   ],
   "source": [
    "#remove duplicates only for first column\n",
    "counter=1\n",
    "count=[]\n",
    "for i in range(len(data)) :\n",
    "    length=len(data[i])\n",
    "    for j in range(len(data[i])) :\n",
    "        if j==0:\n",
    "            if i==0:\n",
    "                print(data[i][j],'-',counter)\n",
    "                workbook1.sheetnames[columns[j]].write(\"A1\",\"sEth\")\n",
    "                workbook1.sheetnames[columns[j]].write(\"B1\",\"state\")\n",
    "                workbook1.sheetnames[columns[j]].write(i+1,0,data[i][j])\n",
    "                workbook1.sheetnames[columns[j]].write(i+1,1,counter)\n",
    "                count.append(counter)\n",
    "                previous_counter=counter\n",
    "                counter=counter+1\n",
    "            else:\n",
    "                 for k in range(0,i):\n",
    "                #print(k)\n",
    "                        if data[k][j]==data[i][j]:\n",
    "                        #print(data[i][j])\n",
    "                        #print(k)\n",
    "                        #break\n",
    "                            previous_counter=count[k]\n",
    "\n",
    "                            print(data[i][j],'-',previous_counter)\n",
    "                            break\n",
    "                        for k in range(0,i):\n",
    "                            if data[k][j]!=data[i][j]:\n",
    "                                print(data[i][j],'-',counter)\n",
    "                                workbook1.sheetnames[columns[j]].write(\"A1\",\"sEth\")\n",
    "                                workbook1.sheetnames[columns[j]].write(\"B1\",\"state\")\n",
    "                                workbook1.sheetnames[columns[j]].write(i+1,0,data[i][j])\n",
    "                                workbook1.sheetnames[columns[j]].write(i+1,1,counter)\n",
    "                                count.append(counter)\n",
    "                                previous_counter=counter\n",
    "                                counter=counter+1\n",
    "        elif j==length-1:\n",
    "            print(previous_counter,'-',data[i][j])\n",
    "            workbook1.sheetnames[columns[j]].write(\"A1\",\"Previous_state\")\n",
    "            workbook1.sheetnames[columns[j]].write(\"B1\",\"Action\")\n",
    "            workbook1.sheetnames[columns[j]].write(i+1,0,previous_counter)\n",
    "            #n=n+1\n",
    "            workbook1.sheetnames[columns[j]].write(i+1,1,data[i][j])\n",
    "            #o=o+1\n",
    "            #counter=counter+1\n",
    "        else:\n",
    "            \n",
    "            print(previous_counter,'-',data[i][j],'-',counter)\n",
    "            #outsheetj.write(\"A1\",\"Previous_state\")\n",
    "            #outsheetj.write(\"B1\",columns[j])\n",
    "            #outsheetj.write(\"C1\",\"next_state\")\n",
    "            #outsheetj.write(i+1,0,previous_counter)\n",
    "            #outsheetj.write(i+1,1,data[i][j])\n",
    "            #outsheetj.write(i+1,2,counter)\n",
    "            workbook1.sheetnames[columns[j]].write(\"A1\",\"Previous_state\")\n",
    "            workbook1.sheetnames[columns[j]].write(\"B1\", columns[j]) \n",
    "            workbook1.sheetnames[columns[j]].write(\"C1\",\"next_state\")\n",
    "            workbook1.sheetnames[columns[j]].write(i+1,0,previous_counter)\n",
    "            workbook1.sheetnames[columns[j]].write(i+1,1,data[i][j])\n",
    "            workbook1.sheetnames[columns[j]].write(i+1,2,counter)\n",
    "            #sheet_name1.write()\n",
    "            #sheet_name=columns[j]\n",
    "            #print(column[j])\n",
    "            #worksheet=outworkbook.add_worksheet(sheet_name)\n",
    "            previous_counter=counter\n",
    "            counter=counter+1\n",
    "           \n",
    "\n",
    "               "
   ]
  },
  {
   "cell_type": "code",
   "execution_count": 67,
   "metadata": {},
   "outputs": [
    {
     "name": "stdout",
     "output_type": "stream",
     "text": [
      "0\n",
      "1\n",
      "1\n",
      "9\n"
     ]
    }
   ],
   "source": [
    "i=2\n",
    "for k in range(0,i):\n",
    "    print(k)\n",
    "    print(count[k])\n",
    "    "
   ]
  },
  {
   "cell_type": "code",
   "execution_count": 15,
   "metadata": {},
   "outputs": [
    {
     "name": "stdout",
     "output_type": "stream",
     "text": [
      "9e:8d:de:80:29:28 - 1\n",
      "1 - ff:ff:ff:ff:ff:ff - 2\n"
     ]
    },
    {
     "ename": "IndexError",
     "evalue": "list assignment index out of range",
     "output_type": "error",
     "traceback": [
      "\u001b[1;31m---------------------------------------------------------------------------\u001b[0m",
      "\u001b[1;31mIndexError\u001b[0m                                Traceback (most recent call last)",
      "\u001b[1;32m<ipython-input-15-e41deb12b4de>\u001b[0m in \u001b[0;36m<module>\u001b[1;34m\u001b[0m\n\u001b[0;32m     50\u001b[0m             \u001b[1;32mif\u001b[0m \u001b[0mi\u001b[0m\u001b[1;33m==\u001b[0m\u001b[1;36m0\u001b[0m\u001b[1;33m:\u001b[0m\u001b[1;33m\u001b[0m\u001b[1;33m\u001b[0m\u001b[0m\n\u001b[0;32m     51\u001b[0m                 \u001b[0mprint\u001b[0m\u001b[1;33m(\u001b[0m\u001b[0mprevious_counter\u001b[0m\u001b[1;33m,\u001b[0m\u001b[1;34m'-'\u001b[0m\u001b[1;33m,\u001b[0m\u001b[0mdata\u001b[0m\u001b[1;33m[\u001b[0m\u001b[0mi\u001b[0m\u001b[1;33m]\u001b[0m\u001b[1;33m[\u001b[0m\u001b[0mj\u001b[0m\u001b[1;33m]\u001b[0m\u001b[1;33m,\u001b[0m\u001b[1;34m'-'\u001b[0m\u001b[1;33m,\u001b[0m\u001b[0mcounter\u001b[0m\u001b[1;33m)\u001b[0m\u001b[1;33m\u001b[0m\u001b[1;33m\u001b[0m\u001b[0m\n\u001b[1;32m---> 52\u001b[1;33m                 \u001b[0mprevious_count\u001b[0m\u001b[1;33m[\u001b[0m\u001b[0mi\u001b[0m\u001b[1;33m]\u001b[0m\u001b[1;33m[\u001b[0m\u001b[0mj\u001b[0m\u001b[1;33m]\u001b[0m\u001b[1;33m=\u001b[0m\u001b[0mprevious_counter\u001b[0m\u001b[1;33m\u001b[0m\u001b[1;33m\u001b[0m\u001b[0m\n\u001b[0m\u001b[0;32m     53\u001b[0m                 \u001b[1;31m#outsheetj.write(\"A1\",\"Previous_state\")\u001b[0m\u001b[1;33m\u001b[0m\u001b[1;33m\u001b[0m\u001b[1;33m\u001b[0m\u001b[0m\n\u001b[0;32m     54\u001b[0m                 \u001b[1;31m#outsheetj.write(\"B1\",columns[j])\u001b[0m\u001b[1;33m\u001b[0m\u001b[1;33m\u001b[0m\u001b[1;33m\u001b[0m\u001b[0m\n",
      "\u001b[1;31mIndexError\u001b[0m: list assignment index out of range"
     ]
    }
   ],
   "source": [
    "counter=1\n",
    "count=[]\n",
    "previous_count=[[]]\n",
    "for i in range(len(data)) :\n",
    "    length=len(data[i])\n",
    "    for j in range(len(data[i])) :\n",
    "        if j==0:\n",
    "            if i==0:\n",
    "                print(data[i][j],'-',counter)\n",
    "                workbook1.sheetnames[columns[j]].write(\"A1\",\"sEth\")\n",
    "                workbook1.sheetnames[columns[j]].write(\"B1\",\"state\")\n",
    "                workbook1.sheetnames[columns[j]].write(i+1,0,data[i][j])\n",
    "                workbook1.sheetnames[columns[j]].write(i+1,1,counter)\n",
    "                count.append(counter)\n",
    "                previous_counter=counter\n",
    "                #previous_count[i][j]=previous_counter\n",
    "                counter=counter+1\n",
    "            else:\n",
    "                 for k in range(0,i):\n",
    "                #print(k)\n",
    "                        if data[k][j]==data[i][j]:\n",
    "                        #print(data[i][j])\n",
    "                        #print(k)\n",
    "                        #break\n",
    "                            previous_counter=count[k]\n",
    "                            #previous_count[i][j]=previous_counter\n",
    "                            print(data[i][j],'-',previous_counter)\n",
    "                            break\n",
    "                        for k in range(0,i):\n",
    "                            if data[k][j]!=data[i][j]:\n",
    "                                print(data[i][j],'-',counter)\n",
    "                                workbook1.sheetnames[columns[j]].write(\"A1\",\"sEth\")\n",
    "                                workbook1.sheetnames[columns[j]].write(\"B1\",\"state\")\n",
    "                                workbook1.sheetnames[columns[j]].write(i+1,0,data[i][j])\n",
    "                                workbook1.sheetnames[columns[j]].write(i+1,1,counter)\n",
    "                                count.append(counter)\n",
    "                                previous_counter=counter\n",
    "                                #previous_count[i][j]=previous_counter\n",
    "                                counter=counter+1\n",
    "        elif j==length-1:\n",
    "            print(previous_counter,'-',data[i][j])\n",
    "            workbook1.sheetnames[columns[j]].write(\"A1\",\"Previous_state\")\n",
    "            workbook1.sheetnames[columns[j]].write(\"B1\",\"Action\")\n",
    "            workbook1.sheetnames[columns[j]].write(i+1,0,previous_counter)\n",
    "            #n=n+1\n",
    "            workbook1.sheetnames[columns[j]].write(i+1,1,data[i][j])\n",
    "            #o=o+1\n",
    "            #counter=counter+1\n",
    "        else:\n",
    "            if i==0:\n",
    "                print(previous_counter,'-',data[i][j],'-',counter)\n",
    "                previous_count[i][j]=previous_counter\n",
    "                #outsheetj.write(\"A1\",\"Previous_state\")\n",
    "                #outsheetj.write(\"B1\",columns[j])\n",
    "                #outsheetj.write(\"C1\",\"next_state\")\n",
    "                #outsheetj.write(i+1,0,previous_counter)\n",
    "                #outsheetj.write(i+1,1,data[i][j])\n",
    "                #outsheetj.write(i+1,2,counter)\n",
    "                workbook1.sheetnames[columns[j]].write(\"A1\",\"Previous_state\")\n",
    "                workbook1.sheetnames[columns[j]].write(\"B1\", columns[j]) \n",
    "                workbook1.sheetnames[columns[j]].write(\"C1\",\"next_state\")\n",
    "                workbook1.sheetnames[columns[j]].write(i+1,0,previous_counter)\n",
    "                workbook1.sheetnames[columns[j]].write(i+1,1,data[i][j])\n",
    "                workbook1.sheetnames[columns[j]].write(i+1,2,counter)\n",
    "                #sheet_name1.write()\n",
    "                #sheet_name=columns[j]\n",
    "                #print(column[j])\n",
    "                #worksheet=outworkbook.add_worksheet(sheet_name)\n",
    "                previous_counter=counter\n",
    "                counter=counter+1\n",
    "            else:\n",
    "                for k in range(0,i):\n",
    "                    if data[k][j]!=data[i][j]:\n",
    "                        print(previous_counter,'-',data[i][j],'-',counter)\n",
    "                        workbook1.sheetnames[columns[j]].write(\"A1\",\"Previous_state\")\n",
    "                        workbook1.sheetnames[columns[j]].write(\"B1\", columns[j]) \n",
    "                        workbook1.sheetnames[columns[j]].write(\"C1\",\"next_state\")\n",
    "                        workbook1.sheetnames[columns[j]].write(i+1,0,previous_counter)\n",
    "                        workbook1.sheetnames[columns[j]].write(i+1,1,data[i][j])\n",
    "                        workbook1.sheetnames[columns[j]].write(i+1,2,counter)                      \n",
    "                        count.append(counter)\n",
    "                        previous_counter=counter\n",
    "                        counter=counter+1\n",
    "                #for k in range(0,i):\n",
    "                    #if data[k][j]==data[i][j]:\n",
    "                        \n",
    "                \n",
    "            \n",
    "        \n",
    "\n",
    "\n",
    "               "
   ]
  },
  {
   "cell_type": "code",
   "execution_count": 14,
   "metadata": {},
   "outputs": [],
   "source": [
    "previous_count=[[]]"
   ]
  },
  {
   "cell_type": "code",
   "execution_count": null,
   "metadata": {},
   "outputs": [],
   "source": []
  }
 ],
 "metadata": {
  "kernelspec": {
   "display_name": "Python 3",
   "language": "python",
   "name": "python3"
  },
  "language_info": {
   "codemirror_mode": {
    "name": "ipython",
    "version": 3
   },
   "file_extension": ".py",
   "mimetype": "text/x-python",
   "name": "python",
   "nbconvert_exporter": "python",
   "pygments_lexer": "ipython3",
   "version": "3.8.5"
  }
 },
 "nbformat": 4,
 "nbformat_minor": 4
}
