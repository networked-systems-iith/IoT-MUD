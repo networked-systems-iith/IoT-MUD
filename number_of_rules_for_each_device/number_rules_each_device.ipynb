{
 "cells": [
  {
   "cell_type": "code",
   "execution_count": 1,
   "metadata": {},
   "outputs": [],
   "source": [
    "import pandas as pd"
   ]
  },
  {
   "cell_type": "code",
   "execution_count": 2,
   "metadata": {},
   "outputs": [],
   "source": [
    "df = pd.read_csv (r'E:/PhD/16-09-23.csv') "
   ]
  },
  {
   "cell_type": "code",
   "execution_count": 3,
   "metadata": {},
   "outputs": [
    {
     "name": "stdout",
     "output_type": "stream",
     "text": [
      "        Packet ID        TIME  Size            eth.src            eth.dst  \\\n",
      "0               1  1474552802    70  18:b7:9e:02:20:44  14:cc:20:51:33:ea   \n",
      "1               2  1474552802    66  18:b7:9e:02:20:44  14:cc:20:51:33:ea   \n",
      "2               3  1474552802    66  14:cc:20:51:33:ea  30:8c:fb:2f:e4:b2   \n",
      "3               4  1474552802    60  d0:52:a8:00:67:5e  14:cc:20:51:33:ea   \n",
      "4               6  1474552802    88  70:ee:50:18:34:43  14:cc:20:51:33:ea   \n",
      "...           ...         ...   ...                ...                ...   \n",
      "802576     947066  1474639198    95  44:65:0d:56:cc:d3  14:cc:20:51:33:ea   \n",
      "802577     947067  1474639198    66  14:cc:20:51:33:ea  30:8c:fb:2f:e4:b2   \n",
      "802578     947068  1474639199    54  14:cc:20:51:33:ea  44:65:0d:56:cc:d3   \n",
      "802579     947071  1474639199   156  30:8c:fb:2f:e4:b2  14:cc:20:51:33:ea   \n",
      "802580     947072  1474639199    66  14:cc:20:51:33:ea  30:8c:fb:2f:e4:b2   \n",
      "\n",
      "                IP.src          IP.dst  IP.proto  port.src  port.dst  \n",
      "0        192.168.1.120    46.105.38.79         6     40234      5228  \n",
      "1        192.168.1.120    46.105.38.79         6     40234      5228  \n",
      "2        52.87.241.159   192.168.1.106         6       443     46330  \n",
      "3        192.168.1.196     52.1.40.122         6      3063       443  \n",
      "4        192.168.1.241     192.168.1.1        17     61725        53  \n",
      "...                ...             ...       ...       ...       ...  \n",
      "802576   192.168.1.240  205.251.242.52         6     40184       443  \n",
      "802577   52.87.241.159   192.168.1.106         6       443     46330  \n",
      "802578  205.251.242.52   192.168.1.240         6       443     40184  \n",
      "802579   192.168.1.106   52.87.241.159         6     46330       443  \n",
      "802580   52.87.241.159   192.168.1.106         6       443     46330  \n",
      "\n",
      "[802581 rows x 10 columns]\n"
     ]
    }
   ],
   "source": [
    "print(df)"
   ]
  },
  {
   "cell_type": "code",
   "execution_count": 4,
   "metadata": {},
   "outputs": [],
   "source": [
    "columns=df.columns"
   ]
  },
  {
   "cell_type": "code",
   "execution_count": 11,
   "metadata": {},
   "outputs": [
    {
     "data": {
      "text/plain": [
       "'Packet ID'"
      ]
     },
     "execution_count": 11,
     "metadata": {},
     "output_type": "execute_result"
    }
   ],
   "source": [
    "columns[0]"
   ]
  },
  {
   "cell_type": "code",
   "execution_count": 1,
   "metadata": {},
   "outputs": [],
   "source": [
    "import json\n",
    "import pandas as pd\n",
    "pd.set_option('display.max_rows', None)\n",
    "import os\n",
    "import numpy as np\n",
    "import csv\n",
    "import random"
   ]
  },
  {
   "cell_type": "code",
   "execution_count": 2,
   "metadata": {},
   "outputs": [],
   "source": [
    "os.chdir(\"E:/PhD/json\")\n",
    "files=os.listdir('E:/PhD/json/')\n",
    "data=[]\n",
    "for file in files:    \n",
    "    with open(file) as f:\n",
    "        df2 = json.load(f)\n",
    "        data.append(df2)"
   ]
  },
  {
   "cell_type": "code",
   "execution_count": 14,
   "metadata": {},
   "outputs": [
    {
     "data": {
      "text/html": [
       "<div>\n",
       "<style scoped>\n",
       "    .dataframe tbody tr th:only-of-type {\n",
       "        vertical-align: middle;\n",
       "    }\n",
       "\n",
       "    .dataframe tbody tr th {\n",
       "        vertical-align: top;\n",
       "    }\n",
       "\n",
       "    .dataframe thead th {\n",
       "        text-align: right;\n",
       "    }\n",
       "</style>\n",
       "<table border=\"1\" class=\"dataframe\">\n",
       "  <thead>\n",
       "    <tr style=\"text-align: right;\">\n",
       "      <th></th>\n",
       "      <th>ietf-mud:mud</th>\n",
       "      <th>ietf-access-control-list:access-lists</th>\n",
       "    </tr>\n",
       "  </thead>\n",
       "  <tbody>\n",
       "    <tr>\n",
       "      <th>mud-version</th>\n",
       "      <td>1</td>\n",
       "      <td>NaN</td>\n",
       "    </tr>\n",
       "    <tr>\n",
       "      <th>mud-url</th>\n",
       "      <td>https://amazonecho.com/amazonecho</td>\n",
       "      <td>NaN</td>\n",
       "    </tr>\n",
       "    <tr>\n",
       "      <th>last-update</th>\n",
       "      <td>2018-09-16T13:53:04.908+10:00</td>\n",
       "      <td>NaN</td>\n",
       "    </tr>\n",
       "    <tr>\n",
       "      <th>cache-validity</th>\n",
       "      <td>100</td>\n",
       "      <td>NaN</td>\n",
       "    </tr>\n",
       "    <tr>\n",
       "      <th>is-supported</th>\n",
       "      <td>True</td>\n",
       "      <td>NaN</td>\n",
       "    </tr>\n",
       "  </tbody>\n",
       "</table>\n",
       "</div>"
      ],
      "text/plain": [
       "                                     ietf-mud:mud  \\\n",
       "mud-version                                     1   \n",
       "mud-url         https://amazonecho.com/amazonecho   \n",
       "last-update         2018-09-16T13:53:04.908+10:00   \n",
       "cache-validity                                100   \n",
       "is-supported                                 True   \n",
       "\n",
       "               ietf-access-control-list:access-lists  \n",
       "mud-version                                      NaN  \n",
       "mud-url                                          NaN  \n",
       "last-update                                      NaN  \n",
       "cache-validity                                   NaN  \n",
       "is-supported                                     NaN  "
      ]
     },
     "execution_count": 14,
     "metadata": {},
     "output_type": "execute_result"
    }
   ],
   "source": [
    "df.head()"
   ]
  },
  {
   "cell_type": "code",
   "execution_count": 3,
   "metadata": {},
   "outputs": [],
   "source": [
    "def getSourceDestination(data):\n",
    "    if 'dnsname' in str(data):\n",
    "        src_net_key = 'ietf-acldns:src-dnsname'\n",
    "        dest_net_key = 'ietf-acldns:dst-dnsname'\n",
    "    elif 'network' in str(data):\n",
    "        src_net_key = 'source-ipv4-network'\n",
    "        dest_net_key = 'destination-ipv4-network'\n",
    "    else:\n",
    "        src_net_key = '*'\n",
    "        dest_net_key = '*'\n",
    "    return data.get(src_net_key, '*'), data.get(dest_net_key, '*'), data.get('protocol', '*')"
   ]
  },
  {
   "cell_type": "code",
   "execution_count": 4,
   "metadata": {},
   "outputs": [
    {
     "data": {
      "text/html": [
       "<div>\n",
       "<style scoped>\n",
       "    .dataframe tbody tr th:only-of-type {\n",
       "        vertical-align: middle;\n",
       "    }\n",
       "\n",
       "    .dataframe tbody tr th {\n",
       "        vertical-align: top;\n",
       "    }\n",
       "\n",
       "    .dataframe thead th {\n",
       "        text-align: right;\n",
       "    }\n",
       "</style>\n",
       "<table border=\"1\" class=\"dataframe\">\n",
       "  <thead>\n",
       "    <tr style=\"text-align: right;\">\n",
       "      <th></th>\n",
       "      <th>sEth</th>\n",
       "      <th>dEth</th>\n",
       "      <th>typEth</th>\n",
       "      <th>Source</th>\n",
       "      <th>Destination</th>\n",
       "      <th>proto</th>\n",
       "      <th>type</th>\n",
       "      <th>code</th>\n",
       "      <th>sPort</th>\n",
       "      <th>dPort</th>\n",
       "      <th>priority</th>\n",
       "      <th>action</th>\n",
       "    </tr>\n",
       "  </thead>\n",
       "  <tbody>\n",
       "    <tr>\n",
       "      <th>0</th>\n",
       "      <td>9e:8d:de:80:29:28</td>\n",
       "      <td>*</td>\n",
       "      <td>0x0800</td>\n",
       "      <td>*</td>\n",
       "      <td>dcape-na.amazon.com</td>\n",
       "      <td>6</td>\n",
       "      <td>*</td>\n",
       "      <td>*</td>\n",
       "      <td>*</td>\n",
       "      <td>443</td>\n",
       "      <td>*</td>\n",
       "      <td>forward</td>\n",
       "    </tr>\n",
       "    <tr>\n",
       "      <th>1</th>\n",
       "      <td>9e:8d:de:80:29:28</td>\n",
       "      <td>*</td>\n",
       "      <td>0x0800</td>\n",
       "      <td>*</td>\n",
       "      <td>softwareupdates.amazon.com</td>\n",
       "      <td>6</td>\n",
       "      <td>*</td>\n",
       "      <td>*</td>\n",
       "      <td>*</td>\n",
       "      <td>443</td>\n",
       "      <td>*</td>\n",
       "      <td>forward</td>\n",
       "    </tr>\n",
       "    <tr>\n",
       "      <th>2</th>\n",
       "      <td>9e:8d:de:80:29:28</td>\n",
       "      <td>*</td>\n",
       "      <td>0x0800</td>\n",
       "      <td>*</td>\n",
       "      <td>3.north-america.pool.ntp.org</td>\n",
       "      <td>17</td>\n",
       "      <td>*</td>\n",
       "      <td>*</td>\n",
       "      <td>*</td>\n",
       "      <td>123</td>\n",
       "      <td>*</td>\n",
       "      <td>forward</td>\n",
       "    </tr>\n",
       "    <tr>\n",
       "      <th>3</th>\n",
       "      <td>9e:8d:de:80:29:28</td>\n",
       "      <td>*</td>\n",
       "      <td>*</td>\n",
       "      <td>*</td>\n",
       "      <td>224.0.0.22/32</td>\n",
       "      <td>2</td>\n",
       "      <td>*</td>\n",
       "      <td>*</td>\n",
       "      <td>*</td>\n",
       "      <td>*</td>\n",
       "      <td>*</td>\n",
       "      <td>forward</td>\n",
       "    </tr>\n",
       "    <tr>\n",
       "      <th>4</th>\n",
       "      <td>9e:8d:de:80:29:28</td>\n",
       "      <td>*</td>\n",
       "      <td>0x0800</td>\n",
       "      <td>*</td>\n",
       "      <td>239.255.255.250/32</td>\n",
       "      <td>17</td>\n",
       "      <td>*</td>\n",
       "      <td>*</td>\n",
       "      <td>*</td>\n",
       "      <td>1900</td>\n",
       "      <td>*</td>\n",
       "      <td>forward</td>\n",
       "    </tr>\n",
       "  </tbody>\n",
       "</table>\n",
       "</div>"
      ],
      "text/plain": [
       "                sEth dEth  typEth Source                   Destination proto  \\\n",
       "0  9e:8d:de:80:29:28    *  0x0800      *           dcape-na.amazon.com     6   \n",
       "1  9e:8d:de:80:29:28    *  0x0800      *    softwareupdates.amazon.com     6   \n",
       "2  9e:8d:de:80:29:28    *  0x0800      *  3.north-america.pool.ntp.org    17   \n",
       "3  9e:8d:de:80:29:28    *       *      *                 224.0.0.22/32     2   \n",
       "4  9e:8d:de:80:29:28    *  0x0800      *            239.255.255.250/32    17   \n",
       "\n",
       "  type code sPort dPort priority   action  \n",
       "0    *    *     *   443        *  forward  \n",
       "1    *    *     *   443        *  forward  \n",
       "2    *    *     *   123        *  forward  \n",
       "3    *    *     *     *        *  forward  \n",
       "4    *    *     *  1900        *  forward  "
      ]
     },
     "execution_count": 4,
     "metadata": {},
     "output_type": "execute_result"
    }
   ],
   "source": [
    "final_list = []\n",
    "for i in range(len(data)):\n",
    "    access_json=data[i].get('ietf-access-control-list:access-lists').get('acl')    \n",
    "    for acl in access_json:\n",
    "        aces = acl['aces']['ace']\n",
    "        for ace in aces:\n",
    "            final_row = {\n",
    "            'sEth': '*',\n",
    "            'dEth': '*',\n",
    "            'typEth': '*',\n",
    "            }\n",
    "            if 'ethertype' in str(ace['matches']):\n",
    "                final_row['sEth'] = ace['matches']['eth'].get('source-mac-address', '*')\n",
    "                final_row['dEth'] = ace['matches']['eth'].get('destination-mac-address', '*')\n",
    "                final_row['typEth'] = ace['matches']['eth'].get('ethertype', '*')\n",
    "            if 'ipv4' in str(ace['matches']):\n",
    "                source, dest, proto = getSourceDestination(ace['matches']['ipv4'])\n",
    "                final_row['Source'] = source\n",
    "                final_row['Destination'] = dest\n",
    "                final_row['proto'] = proto\n",
    "            elif 'ipv6' in str(ace['matches']):\n",
    "                source, dest, proto = getSourceDestination(ace['matches']['ipv6'])\n",
    "                final_row['Source'] = source\n",
    "                final_row['Destination'] = dest\n",
    "                final_row['proto'] = proto\n",
    "            else:\n",
    "                final_row['Source'] = '*'\n",
    "                final_row['Destination'] = '*'\n",
    "                final_row['proto'] = '*'\n",
    "            if 'ipv4' in str(ace['matches']):\n",
    "                source, dest, proto = getSourceDestination(ace['matches']['ipv4'])\n",
    "                if proto in [1,6,17] :\n",
    "                    final_row['typEth']='0x0800'\n",
    "            if 'icmp' in str(ace['matches']):\n",
    "                final_row['type'] = ace['matches']['icmp'].get('type', '*')\n",
    "                final_row['code'] = ace['matches']['icmp'].get('code', '*')\n",
    "            else:\n",
    "                final_row['type'] = '*' \n",
    "                final_row['code'] = '*'   \n",
    "            if 'source-port' in str(ace['matches']):\n",
    "                final_row['sPort'] = ace['matches']['udp']['source-port'].get('port', '*') if 'udp' in str(ace['matches']) else ace['matches']['tcp']['source-port'].get('port', '*')\n",
    "            else:\n",
    "                final_row['sPort'] = '*'\n",
    "            if 'destination-port' in str(ace['matches']):\n",
    "                final_row['dPort'] = ace['matches']['udp']['destination-port'].get('port', '*') if 'udp' in str(ace['matches']) else ace['matches']['tcp']['destination-port'].get('port', '*')\n",
    "            else:\n",
    "                final_row['dPort'] = '*'\n",
    "            final_row['priority'] = '*'\n",
    "            final_row['action'] = 'forward' if ace['actions'].get('forwarding', '') == 'accept' else '*'\n",
    "            if final_row['Source'] == '*' and final_row['Destination'] != '*':\n",
    "                final_row['sEth'] = '9e:8d:de:80:29:28'  \n",
    "            if final_row['Destination'] == '*' and final_row['Source'] != '*':\n",
    "                final_row['dEth'] = '9e:8d:de:80:29:28'     \n",
    "            final_list.append(final_row)\n",
    "\n",
    "df2 = pd.DataFrame(final_list)\n",
    "df2.head()"
   ]
  },
  {
   "cell_type": "code",
   "execution_count": 29,
   "metadata": {},
   "outputs": [
    {
     "data": {
      "text/plain": [
       "57"
      ]
     },
     "execution_count": 29,
     "metadata": {},
     "output_type": "execute_result"
    }
   ],
   "source": [
    "len(df)"
   ]
  },
  {
   "cell_type": "code",
   "execution_count": 38,
   "metadata": {},
   "outputs": [
    {
     "data": {
      "text/plain": [
       "65"
      ]
     },
     "execution_count": 38,
     "metadata": {},
     "output_type": "execute_result"
    }
   ],
   "source": [
    "len(df1)"
   ]
  },
  {
   "cell_type": "code",
   "execution_count": 43,
   "metadata": {},
   "outputs": [
    {
     "data": {
      "text/plain": [
       "15"
      ]
     },
     "execution_count": 43,
     "metadata": {},
     "output_type": "execute_result"
    }
   ],
   "source": [
    "len(df2)"
   ]
  },
  {
   "cell_type": "code",
   "execution_count": 47,
   "metadata": {},
   "outputs": [
    {
     "data": {
      "text/plain": [
       "43"
      ]
     },
     "execution_count": 47,
     "metadata": {},
     "output_type": "execute_result"
    }
   ],
   "source": [
    "len(df3)"
   ]
  },
  {
   "cell_type": "code",
   "execution_count": 51,
   "metadata": {},
   "outputs": [
    {
     "data": {
      "text/plain": [
       "9"
      ]
     },
     "execution_count": 51,
     "metadata": {},
     "output_type": "execute_result"
    }
   ],
   "source": [
    "len(df4)"
   ]
  },
  {
   "cell_type": "code",
   "execution_count": 55,
   "metadata": {},
   "outputs": [
    {
     "data": {
      "text/plain": [
       "29"
      ]
     },
     "execution_count": 55,
     "metadata": {},
     "output_type": "execute_result"
    }
   ],
   "source": [
    "len(df5)"
   ]
  },
  {
   "cell_type": "code",
   "execution_count": 59,
   "metadata": {},
   "outputs": [
    {
     "data": {
      "text/plain": [
       "201"
      ]
     },
     "execution_count": 59,
     "metadata": {},
     "output_type": "execute_result"
    }
   ],
   "source": [
    "len(df6)"
   ]
  },
  {
   "cell_type": "code",
   "execution_count": 63,
   "metadata": {},
   "outputs": [
    {
     "data": {
      "text/plain": [
       "19"
      ]
     },
     "execution_count": 63,
     "metadata": {},
     "output_type": "execute_result"
    }
   ],
   "source": [
    "len(df7)"
   ]
  },
  {
   "cell_type": "code",
   "execution_count": 67,
   "metadata": {},
   "outputs": [
    {
     "data": {
      "text/plain": [
       "13"
      ]
     },
     "execution_count": 67,
     "metadata": {},
     "output_type": "execute_result"
    }
   ],
   "source": [
    "len(df8)"
   ]
  },
  {
   "cell_type": "code",
   "execution_count": 71,
   "metadata": {},
   "outputs": [
    {
     "data": {
      "text/plain": [
       "42"
      ]
     },
     "execution_count": 71,
     "metadata": {},
     "output_type": "execute_result"
    }
   ],
   "source": [
    "len(df9)"
   ]
  },
  {
   "cell_type": "code",
   "execution_count": 75,
   "metadata": {},
   "outputs": [
    {
     "data": {
      "text/plain": [
       "38"
      ]
     },
     "execution_count": 75,
     "metadata": {},
     "output_type": "execute_result"
    }
   ],
   "source": [
    "len(df10)"
   ]
  },
  {
   "cell_type": "code",
   "execution_count": 79,
   "metadata": {},
   "outputs": [
    {
     "data": {
      "text/plain": [
       "17"
      ]
     },
     "execution_count": 79,
     "metadata": {},
     "output_type": "execute_result"
    }
   ],
   "source": [
    "len(df11)"
   ]
  },
  {
   "cell_type": "code",
   "execution_count": 83,
   "metadata": {},
   "outputs": [
    {
     "data": {
      "text/plain": [
       "18"
      ]
     },
     "execution_count": 83,
     "metadata": {},
     "output_type": "execute_result"
    }
   ],
   "source": [
    "len(df12)"
   ]
  },
  {
   "cell_type": "code",
   "execution_count": 87,
   "metadata": {},
   "outputs": [
    {
     "data": {
      "text/plain": [
       "104"
      ]
     },
     "execution_count": 87,
     "metadata": {},
     "output_type": "execute_result"
    }
   ],
   "source": [
    "len(df13)"
   ]
  },
  {
   "cell_type": "code",
   "execution_count": 91,
   "metadata": {},
   "outputs": [
    {
     "data": {
      "text/plain": [
       "48"
      ]
     },
     "execution_count": 91,
     "metadata": {},
     "output_type": "execute_result"
    }
   ],
   "source": [
    "len(df14)"
   ]
  },
  {
   "cell_type": "code",
   "execution_count": 95,
   "metadata": {},
   "outputs": [
    {
     "data": {
      "text/plain": [
       "9"
      ]
     },
     "execution_count": 95,
     "metadata": {},
     "output_type": "execute_result"
    }
   ],
   "source": [
    "len(df15)"
   ]
  },
  {
   "cell_type": "code",
   "execution_count": 99,
   "metadata": {},
   "outputs": [
    {
     "data": {
      "text/plain": [
       "17"
      ]
     },
     "execution_count": 99,
     "metadata": {},
     "output_type": "execute_result"
    }
   ],
   "source": [
    "len(df16)"
   ]
  },
  {
   "cell_type": "code",
   "execution_count": 103,
   "metadata": {},
   "outputs": [
    {
     "data": {
      "text/plain": [
       "17"
      ]
     },
     "execution_count": 103,
     "metadata": {},
     "output_type": "execute_result"
    }
   ],
   "source": [
    "len(df17)"
   ]
  },
  {
   "cell_type": "code",
   "execution_count": 107,
   "metadata": {},
   "outputs": [
    {
     "data": {
      "text/plain": [
       "39"
      ]
     },
     "execution_count": 107,
     "metadata": {},
     "output_type": "execute_result"
    }
   ],
   "source": [
    "len(df18)"
   ]
  },
  {
   "cell_type": "code",
   "execution_count": 111,
   "metadata": {},
   "outputs": [
    {
     "data": {
      "text/plain": [
       "14"
      ]
     },
     "execution_count": 111,
     "metadata": {},
     "output_type": "execute_result"
    }
   ],
   "source": [
    "len(df19)"
   ]
  },
  {
   "cell_type": "code",
   "execution_count": 115,
   "metadata": {},
   "outputs": [
    {
     "data": {
      "text/plain": [
       "33"
      ]
     },
     "execution_count": 115,
     "metadata": {},
     "output_type": "execute_result"
    }
   ],
   "source": [
    "len(df20)"
   ]
  },
  {
   "cell_type": "code",
   "execution_count": 119,
   "metadata": {},
   "outputs": [
    {
     "data": {
      "text/plain": [
       "32"
      ]
     },
     "execution_count": 119,
     "metadata": {},
     "output_type": "execute_result"
    }
   ],
   "source": [
    "len(df21)"
   ]
  },
  {
   "cell_type": "code",
   "execution_count": 123,
   "metadata": {},
   "outputs": [
    {
     "data": {
      "text/plain": [
       "43"
      ]
     },
     "execution_count": 123,
     "metadata": {},
     "output_type": "execute_result"
    }
   ],
   "source": [
    "len(df22)"
   ]
  },
  {
   "cell_type": "code",
   "execution_count": 127,
   "metadata": {},
   "outputs": [
    {
     "data": {
      "text/plain": [
       "31"
      ]
     },
     "execution_count": 127,
     "metadata": {},
     "output_type": "execute_result"
    }
   ],
   "source": [
    "len(df23)"
   ]
  },
  {
   "cell_type": "code",
   "execution_count": 131,
   "metadata": {},
   "outputs": [
    {
     "data": {
      "text/plain": [
       "33"
      ]
     },
     "execution_count": 131,
     "metadata": {},
     "output_type": "execute_result"
    }
   ],
   "source": [
    "len(df24)"
   ]
  },
  {
   "cell_type": "code",
   "execution_count": 135,
   "metadata": {},
   "outputs": [
    {
     "data": {
      "text/plain": [
       "19"
      ]
     },
     "execution_count": 135,
     "metadata": {},
     "output_type": "execute_result"
    }
   ],
   "source": [
    "len(df25)"
   ]
  },
  {
   "cell_type": "code",
   "execution_count": 139,
   "metadata": {},
   "outputs": [
    {
     "data": {
      "text/plain": [
       "9"
      ]
     },
     "execution_count": 139,
     "metadata": {},
     "output_type": "execute_result"
    }
   ],
   "source": [
    "len(df26)"
   ]
  },
  {
   "cell_type": "code",
   "execution_count": 143,
   "metadata": {},
   "outputs": [
    {
     "data": {
      "text/plain": [
       "11"
      ]
     },
     "execution_count": 143,
     "metadata": {},
     "output_type": "execute_result"
    }
   ],
   "source": [
    "len(df27)"
   ]
  },
  {
   "cell_type": "code",
   "execution_count": null,
   "metadata": {},
   "outputs": [],
   "source": [
    "total number of rules-1025"
   ]
  },
  {
   "cell_type": "code",
   "execution_count": 6,
   "metadata": {},
   "outputs": [
    {
     "data": {
      "text/plain": [
       "1025"
      ]
     },
     "execution_count": 6,
     "metadata": {},
     "output_type": "execute_result"
    }
   ],
   "source": [
    "len(df29)"
   ]
  },
  {
   "cell_type": "code",
   "execution_count": 13,
   "metadata": {},
   "outputs": [],
   "source": [
    "df1.to_csv('E:/PhD/json/amazonecho.csv')"
   ]
  },
  {
   "cell_type": "code",
   "execution_count": 11,
   "metadata": {},
   "outputs": [
    {
     "data": {
      "text/plain": [
       "57"
      ]
     },
     "execution_count": 11,
     "metadata": {},
     "output_type": "execute_result"
    }
   ],
   "source": [
    "len(df1)"
   ]
  },
  {
   "cell_type": "code",
   "execution_count": 14,
   "metadata": {},
   "outputs": [
    {
     "data": {
      "text/plain": [
       "(57, 12)"
      ]
     },
     "execution_count": 14,
     "metadata": {},
     "output_type": "execute_result"
    }
   ],
   "source": [
    "df1.shape"
   ]
  },
  {
   "cell_type": "code",
   "execution_count": 19,
   "metadata": {},
   "outputs": [
    {
     "data": {
      "text/plain": [
       "65"
      ]
     },
     "execution_count": 19,
     "metadata": {},
     "output_type": "execute_result"
    }
   ],
   "source": [
    "len(df2)"
   ]
  },
  {
   "cell_type": "code",
   "execution_count": 5,
   "metadata": {},
   "outputs": [],
   "source": [
    "df2.to_csv('E:/PhD/json/all_device.csv')"
   ]
  },
  {
   "cell_type": "code",
   "execution_count": 21,
   "metadata": {},
   "outputs": [
    {
     "data": {
      "text/plain": [
       "(65, 12)"
      ]
     },
     "execution_count": 21,
     "metadata": {},
     "output_type": "execute_result"
    }
   ],
   "source": [
    "df2.shape"
   ]
  },
  {
   "cell_type": "code",
   "execution_count": 6,
   "metadata": {},
   "outputs": [],
   "source": [
    "raw_df = pd.read_csv(\"E:/PhD/json/all_device.csv\")"
   ]
  },
  {
   "cell_type": "code",
   "execution_count": 7,
   "metadata": {},
   "outputs": [
    {
     "data": {
      "text/html": [
       "<div>\n",
       "<style scoped>\n",
       "    .dataframe tbody tr th:only-of-type {\n",
       "        vertical-align: middle;\n",
       "    }\n",
       "\n",
       "    .dataframe tbody tr th {\n",
       "        vertical-align: top;\n",
       "    }\n",
       "\n",
       "    .dataframe thead th {\n",
       "        text-align: right;\n",
       "    }\n",
       "</style>\n",
       "<table border=\"1\" class=\"dataframe\">\n",
       "  <thead>\n",
       "    <tr style=\"text-align: right;\">\n",
       "      <th></th>\n",
       "      <th>Unnamed: 0</th>\n",
       "      <th>sEth</th>\n",
       "      <th>dEth</th>\n",
       "      <th>typEth</th>\n",
       "      <th>Source</th>\n",
       "      <th>Destination</th>\n",
       "      <th>proto</th>\n",
       "      <th>type</th>\n",
       "      <th>code</th>\n",
       "      <th>sPort</th>\n",
       "      <th>dPort</th>\n",
       "      <th>priority</th>\n",
       "      <th>action</th>\n",
       "    </tr>\n",
       "  </thead>\n",
       "  <tbody>\n",
       "    <tr>\n",
       "      <th>0</th>\n",
       "      <td>0</td>\n",
       "      <td>9e:8d:de:80:29:28</td>\n",
       "      <td>*</td>\n",
       "      <td>0x0800</td>\n",
       "      <td>*</td>\n",
       "      <td>dcape-na.amazon.com</td>\n",
       "      <td>6</td>\n",
       "      <td>*</td>\n",
       "      <td>*</td>\n",
       "      <td>*</td>\n",
       "      <td>443</td>\n",
       "      <td>*</td>\n",
       "      <td>forward</td>\n",
       "    </tr>\n",
       "    <tr>\n",
       "      <th>1</th>\n",
       "      <td>1</td>\n",
       "      <td>9e:8d:de:80:29:28</td>\n",
       "      <td>*</td>\n",
       "      <td>0x0800</td>\n",
       "      <td>*</td>\n",
       "      <td>softwareupdates.amazon.com</td>\n",
       "      <td>6</td>\n",
       "      <td>*</td>\n",
       "      <td>*</td>\n",
       "      <td>*</td>\n",
       "      <td>443</td>\n",
       "      <td>*</td>\n",
       "      <td>forward</td>\n",
       "    </tr>\n",
       "    <tr>\n",
       "      <th>2</th>\n",
       "      <td>2</td>\n",
       "      <td>9e:8d:de:80:29:28</td>\n",
       "      <td>*</td>\n",
       "      <td>0x0800</td>\n",
       "      <td>*</td>\n",
       "      <td>3.north-america.pool.ntp.org</td>\n",
       "      <td>17</td>\n",
       "      <td>*</td>\n",
       "      <td>*</td>\n",
       "      <td>*</td>\n",
       "      <td>123</td>\n",
       "      <td>*</td>\n",
       "      <td>forward</td>\n",
       "    </tr>\n",
       "    <tr>\n",
       "      <th>3</th>\n",
       "      <td>3</td>\n",
       "      <td>9e:8d:de:80:29:28</td>\n",
       "      <td>*</td>\n",
       "      <td>*</td>\n",
       "      <td>*</td>\n",
       "      <td>224.0.0.22/32</td>\n",
       "      <td>2</td>\n",
       "      <td>*</td>\n",
       "      <td>*</td>\n",
       "      <td>*</td>\n",
       "      <td>*</td>\n",
       "      <td>*</td>\n",
       "      <td>forward</td>\n",
       "    </tr>\n",
       "    <tr>\n",
       "      <th>4</th>\n",
       "      <td>4</td>\n",
       "      <td>9e:8d:de:80:29:28</td>\n",
       "      <td>*</td>\n",
       "      <td>0x0800</td>\n",
       "      <td>*</td>\n",
       "      <td>239.255.255.250/32</td>\n",
       "      <td>17</td>\n",
       "      <td>*</td>\n",
       "      <td>*</td>\n",
       "      <td>*</td>\n",
       "      <td>1900</td>\n",
       "      <td>*</td>\n",
       "      <td>forward</td>\n",
       "    </tr>\n",
       "  </tbody>\n",
       "</table>\n",
       "</div>"
      ],
      "text/plain": [
       "   Unnamed: 0               sEth dEth  typEth Source  \\\n",
       "0           0  9e:8d:de:80:29:28    *  0x0800      *   \n",
       "1           1  9e:8d:de:80:29:28    *  0x0800      *   \n",
       "2           2  9e:8d:de:80:29:28    *  0x0800      *   \n",
       "3           3  9e:8d:de:80:29:28    *       *      *   \n",
       "4           4  9e:8d:de:80:29:28    *  0x0800      *   \n",
       "\n",
       "                    Destination proto type code sPort dPort priority   action  \n",
       "0           dcape-na.amazon.com     6    *    *     *   443        *  forward  \n",
       "1    softwareupdates.amazon.com     6    *    *     *   443        *  forward  \n",
       "2  3.north-america.pool.ntp.org    17    *    *     *   123        *  forward  \n",
       "3                 224.0.0.22/32     2    *    *     *     *        *  forward  \n",
       "4            239.255.255.250/32    17    *    *     *  1900        *  forward  "
      ]
     },
     "execution_count": 7,
     "metadata": {},
     "output_type": "execute_result"
    }
   ],
   "source": [
    "raw_df.head()"
   ]
  },
  {
   "cell_type": "code",
   "execution_count": 8,
   "metadata": {},
   "outputs": [],
   "source": [
    "raw_df.drop('type', inplace=True, axis=1)"
   ]
  },
  {
   "cell_type": "code",
   "execution_count": 9,
   "metadata": {},
   "outputs": [],
   "source": [
    "raw_df.drop('code', inplace=True, axis=1)"
   ]
  },
  {
   "cell_type": "code",
   "execution_count": 10,
   "metadata": {},
   "outputs": [],
   "source": [
    "raw_df.drop('priority', inplace=True, axis=1)"
   ]
  },
  {
   "cell_type": "code",
   "execution_count": 11,
   "metadata": {},
   "outputs": [
    {
     "data": {
      "text/html": [
       "<div>\n",
       "<style scoped>\n",
       "    .dataframe tbody tr th:only-of-type {\n",
       "        vertical-align: middle;\n",
       "    }\n",
       "\n",
       "    .dataframe tbody tr th {\n",
       "        vertical-align: top;\n",
       "    }\n",
       "\n",
       "    .dataframe thead th {\n",
       "        text-align: right;\n",
       "    }\n",
       "</style>\n",
       "<table border=\"1\" class=\"dataframe\">\n",
       "  <thead>\n",
       "    <tr style=\"text-align: right;\">\n",
       "      <th></th>\n",
       "      <th>Unnamed: 0</th>\n",
       "      <th>sEth</th>\n",
       "      <th>dEth</th>\n",
       "      <th>typEth</th>\n",
       "      <th>Source</th>\n",
       "      <th>Destination</th>\n",
       "      <th>proto</th>\n",
       "      <th>sPort</th>\n",
       "      <th>dPort</th>\n",
       "      <th>action</th>\n",
       "    </tr>\n",
       "  </thead>\n",
       "  <tbody>\n",
       "    <tr>\n",
       "      <th>0</th>\n",
       "      <td>0</td>\n",
       "      <td>9e:8d:de:80:29:28</td>\n",
       "      <td>*</td>\n",
       "      <td>0x0800</td>\n",
       "      <td>*</td>\n",
       "      <td>dcape-na.amazon.com</td>\n",
       "      <td>6</td>\n",
       "      <td>*</td>\n",
       "      <td>443</td>\n",
       "      <td>forward</td>\n",
       "    </tr>\n",
       "    <tr>\n",
       "      <th>1</th>\n",
       "      <td>1</td>\n",
       "      <td>9e:8d:de:80:29:28</td>\n",
       "      <td>*</td>\n",
       "      <td>0x0800</td>\n",
       "      <td>*</td>\n",
       "      <td>softwareupdates.amazon.com</td>\n",
       "      <td>6</td>\n",
       "      <td>*</td>\n",
       "      <td>443</td>\n",
       "      <td>forward</td>\n",
       "    </tr>\n",
       "    <tr>\n",
       "      <th>2</th>\n",
       "      <td>2</td>\n",
       "      <td>9e:8d:de:80:29:28</td>\n",
       "      <td>*</td>\n",
       "      <td>0x0800</td>\n",
       "      <td>*</td>\n",
       "      <td>3.north-america.pool.ntp.org</td>\n",
       "      <td>17</td>\n",
       "      <td>*</td>\n",
       "      <td>123</td>\n",
       "      <td>forward</td>\n",
       "    </tr>\n",
       "    <tr>\n",
       "      <th>3</th>\n",
       "      <td>3</td>\n",
       "      <td>9e:8d:de:80:29:28</td>\n",
       "      <td>*</td>\n",
       "      <td>*</td>\n",
       "      <td>*</td>\n",
       "      <td>224.0.0.22/32</td>\n",
       "      <td>2</td>\n",
       "      <td>*</td>\n",
       "      <td>*</td>\n",
       "      <td>forward</td>\n",
       "    </tr>\n",
       "    <tr>\n",
       "      <th>4</th>\n",
       "      <td>4</td>\n",
       "      <td>9e:8d:de:80:29:28</td>\n",
       "      <td>*</td>\n",
       "      <td>0x0800</td>\n",
       "      <td>*</td>\n",
       "      <td>239.255.255.250/32</td>\n",
       "      <td>17</td>\n",
       "      <td>*</td>\n",
       "      <td>1900</td>\n",
       "      <td>forward</td>\n",
       "    </tr>\n",
       "  </tbody>\n",
       "</table>\n",
       "</div>"
      ],
      "text/plain": [
       "   Unnamed: 0               sEth dEth  typEth Source  \\\n",
       "0           0  9e:8d:de:80:29:28    *  0x0800      *   \n",
       "1           1  9e:8d:de:80:29:28    *  0x0800      *   \n",
       "2           2  9e:8d:de:80:29:28    *  0x0800      *   \n",
       "3           3  9e:8d:de:80:29:28    *       *      *   \n",
       "4           4  9e:8d:de:80:29:28    *  0x0800      *   \n",
       "\n",
       "                    Destination proto sPort dPort   action  \n",
       "0           dcape-na.amazon.com     6     *   443  forward  \n",
       "1    softwareupdates.amazon.com     6     *   443  forward  \n",
       "2  3.north-america.pool.ntp.org    17     *   123  forward  \n",
       "3                 224.0.0.22/32     2     *     *  forward  \n",
       "4            239.255.255.250/32    17     *  1900  forward  "
      ]
     },
     "execution_count": 11,
     "metadata": {},
     "output_type": "execute_result"
    }
   ],
   "source": [
    "raw_df.head()"
   ]
  },
  {
   "cell_type": "raw",
   "metadata": {},
   "source": []
  },
  {
   "cell_type": "code",
   "execution_count": 13,
   "metadata": {},
   "outputs": [],
   "source": [
    "raw_df = raw_df[['sEth','dEth','typEth','proto','sPort','dPort','Source','Destination','action']]"
   ]
  },
  {
   "cell_type": "code",
   "execution_count": 14,
   "metadata": {},
   "outputs": [
    {
     "data": {
      "text/html": [
       "<div>\n",
       "<style scoped>\n",
       "    .dataframe tbody tr th:only-of-type {\n",
       "        vertical-align: middle;\n",
       "    }\n",
       "\n",
       "    .dataframe tbody tr th {\n",
       "        vertical-align: top;\n",
       "    }\n",
       "\n",
       "    .dataframe thead th {\n",
       "        text-align: right;\n",
       "    }\n",
       "</style>\n",
       "<table border=\"1\" class=\"dataframe\">\n",
       "  <thead>\n",
       "    <tr style=\"text-align: right;\">\n",
       "      <th></th>\n",
       "      <th>sEth</th>\n",
       "      <th>dEth</th>\n",
       "      <th>typEth</th>\n",
       "      <th>proto</th>\n",
       "      <th>sPort</th>\n",
       "      <th>dPort</th>\n",
       "      <th>Source</th>\n",
       "      <th>Destination</th>\n",
       "      <th>action</th>\n",
       "    </tr>\n",
       "  </thead>\n",
       "  <tbody>\n",
       "    <tr>\n",
       "      <th>0</th>\n",
       "      <td>9e:8d:de:80:29:28</td>\n",
       "      <td>*</td>\n",
       "      <td>0x0800</td>\n",
       "      <td>6</td>\n",
       "      <td>*</td>\n",
       "      <td>443</td>\n",
       "      <td>*</td>\n",
       "      <td>dcape-na.amazon.com</td>\n",
       "      <td>forward</td>\n",
       "    </tr>\n",
       "    <tr>\n",
       "      <th>1</th>\n",
       "      <td>9e:8d:de:80:29:28</td>\n",
       "      <td>*</td>\n",
       "      <td>0x0800</td>\n",
       "      <td>6</td>\n",
       "      <td>*</td>\n",
       "      <td>443</td>\n",
       "      <td>*</td>\n",
       "      <td>softwareupdates.amazon.com</td>\n",
       "      <td>forward</td>\n",
       "    </tr>\n",
       "    <tr>\n",
       "      <th>2</th>\n",
       "      <td>9e:8d:de:80:29:28</td>\n",
       "      <td>*</td>\n",
       "      <td>0x0800</td>\n",
       "      <td>17</td>\n",
       "      <td>*</td>\n",
       "      <td>123</td>\n",
       "      <td>*</td>\n",
       "      <td>3.north-america.pool.ntp.org</td>\n",
       "      <td>forward</td>\n",
       "    </tr>\n",
       "    <tr>\n",
       "      <th>3</th>\n",
       "      <td>9e:8d:de:80:29:28</td>\n",
       "      <td>*</td>\n",
       "      <td>*</td>\n",
       "      <td>2</td>\n",
       "      <td>*</td>\n",
       "      <td>*</td>\n",
       "      <td>*</td>\n",
       "      <td>224.0.0.22/32</td>\n",
       "      <td>forward</td>\n",
       "    </tr>\n",
       "    <tr>\n",
       "      <th>4</th>\n",
       "      <td>9e:8d:de:80:29:28</td>\n",
       "      <td>*</td>\n",
       "      <td>0x0800</td>\n",
       "      <td>17</td>\n",
       "      <td>*</td>\n",
       "      <td>1900</td>\n",
       "      <td>*</td>\n",
       "      <td>239.255.255.250/32</td>\n",
       "      <td>forward</td>\n",
       "    </tr>\n",
       "  </tbody>\n",
       "</table>\n",
       "</div>"
      ],
      "text/plain": [
       "                sEth dEth  typEth proto sPort dPort Source  \\\n",
       "0  9e:8d:de:80:29:28    *  0x0800     6     *   443      *   \n",
       "1  9e:8d:de:80:29:28    *  0x0800     6     *   443      *   \n",
       "2  9e:8d:de:80:29:28    *  0x0800    17     *   123      *   \n",
       "3  9e:8d:de:80:29:28    *       *     2     *     *      *   \n",
       "4  9e:8d:de:80:29:28    *  0x0800    17     *  1900      *   \n",
       "\n",
       "                    Destination   action  \n",
       "0           dcape-na.amazon.com  forward  \n",
       "1    softwareupdates.amazon.com  forward  \n",
       "2  3.north-america.pool.ntp.org  forward  \n",
       "3                 224.0.0.22/32  forward  \n",
       "4            239.255.255.250/32  forward  "
      ]
     },
     "execution_count": 14,
     "metadata": {},
     "output_type": "execute_result"
    }
   ],
   "source": [
    "raw_df.head()"
   ]
  },
  {
   "cell_type": "code",
   "execution_count": 15,
   "metadata": {},
   "outputs": [],
   "source": [
    "raw_df.to_csv('E:/PhD/json/all_device1.csv')"
   ]
  },
  {
   "cell_type": "code",
   "execution_count": null,
   "metadata": {},
   "outputs": [],
   "source": []
  }
 ],
 "metadata": {
  "kernelspec": {
   "display_name": "Python 3",
   "language": "python",
   "name": "python3"
  },
  "language_info": {
   "codemirror_mode": {
    "name": "ipython",
    "version": 3
   },
   "file_extension": ".py",
   "mimetype": "text/x-python",
   "name": "python",
   "nbconvert_exporter": "python",
   "pygments_lexer": "ipython3",
   "version": "3.8.5"
  }
 },
 "nbformat": 4,
 "nbformat_minor": 4
}
