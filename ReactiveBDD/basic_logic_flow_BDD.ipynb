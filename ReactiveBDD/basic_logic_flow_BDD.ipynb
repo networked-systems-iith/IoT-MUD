{
 "cells": [
  {
   "cell_type": "code",
   "execution_count": 1,
   "metadata": {},
   "outputs": [],
   "source": [
    "import pandas as pd\n",
    "import json\n",
    "import glob\n",
    "import os       \n",
    "import xlsxwriter"
   ]
  },
  {
   "cell_type": "code",
   "execution_count": 2,
   "metadata": {},
   "outputs": [],
   "source": [
    "path = \"E:/PhD/Bit Vector Linear Search/MUD_rules\"\n",
    "file_list = glob.glob(path + \"/*.xlsx\")\n",
    "excl_list = []\n",
    "for file in file_list:\n",
    "    excl_list.append(pd.read_excel(file))\n",
    "excl_merged = pd.DataFrame()\n",
    "for excl_file in excl_list:\n",
    "      excl_merged = excl_merged.append(excl_file, ignore_index=True)\n",
    "excl_merged.to_csv('total_rules.csv', index=False)"
   ]
  },
  {
   "cell_type": "code",
   "execution_count": 3,
   "metadata": {},
   "outputs": [],
   "source": [
    "path = \"E:/PhD/Bit Vector Linear Search/MUD_rules\"\n",
    "file_list = glob.glob(path + \"/*.xlsx\")\n",
    "excl_list = []\n",
    "for file in file_list:\n",
    "    excl_list.append(pd.read_excel(file))\n",
    "excl_merged = pd.DataFrame()\n",
    "for excl_file in excl_list:\n",
    "      excl_merged = excl_merged.append(excl_file, ignore_index=True)\n",
    "excl_merged.to_csv('total_rules.csv', index=False)"
   ]
  },
  {
   "cell_type": "code",
   "execution_count": 2,
   "metadata": {},
   "outputs": [],
   "source": [
    "df1 = pd.read_csv (r'C:\\Users\\HP\\Downloads\\total_rules.csv') "
   ]
  },
  {
   "cell_type": "code",
   "execution_count": 3,
   "metadata": {},
   "outputs": [
    {
     "name": "stdout",
     "output_type": "stream",
     "text": [
      "                sEth               dEth  typEth           Source  \\\n",
      "0  9e:8d:de:80:29:28  ff:ff:ff:ff:ff:ff  0x0800  s1b.time.edu.cn   \n",
      "1                  *  9e:8d:de:80:29:28  0x0800  fr.pool.ntp.org   \n",
      "\n",
      "                  Destination  proto  sPort  dPort   action  \n",
      "0         dcape-na.amazon.com     17    123    443  forward  \n",
      "1  softwareupdates.amazon.com     17    123     80  forward  \n"
     ]
    }
   ],
   "source": [
    "print(df1)"
   ]
  },
  {
   "cell_type": "code",
   "execution_count": 4,
   "metadata": {},
   "outputs": [
    {
     "name": "stdout",
     "output_type": "stream",
     "text": [
      "['sEth', 'dEth', 'typEth', 'proto', 'sPort', 'dPort', 'Source', 'Destination', 'action']\n"
     ]
    }
   ],
   "source": [
    "column_list = ['sEth','dEth','typEth','proto','sPort',  'dPort', 'Source', 'Destination','action']\n",
    "print(column_list)\n",
    "#state_counter = 1\n",
    "state_mapping = {}\n",
    "previous_column = \"\"\n",
    "previous_column_list = []\n",
    "previous_column_values = []\n",
    "#first_counter = True\n",
    "df_list = []"
   ]
  },
  {
   "cell_type": "code",
   "execution_count": 5,
   "metadata": {},
   "outputs": [
    {
     "name": "stdout",
     "output_type": "stream",
     "text": [
      "sEth\n",
      "dEth\n",
      "typEth\n",
      "proto\n",
      "sPort\n",
      "dPort\n",
      "Source\n",
      "Destination\n",
      "action\n"
     ]
    }
   ],
   "source": [
    "for column in column_list:\n",
    "    print(column)"
   ]
  },
  {
   "cell_type": "code",
   "execution_count": 6,
   "metadata": {},
   "outputs": [
    {
     "name": "stdout",
     "output_type": "stream",
     "text": [
      "[['9e:8d:de:80:29:28', 'ff:ff:ff:ff:ff:ff', '0x0800', 's1b.time.edu.cn', 'dcape-na.amazon.com', 17, 123, 443, 'forward'], ['*', '9e:8d:de:80:29:28', '0x0800', 'fr.pool.ntp.org', 'softwareupdates.amazon.com', 17, 123, 80, 'forward']]\n"
     ]
    }
   ],
   "source": [
    "data=df1.values.tolist()\n",
    "print(data)"
   ]
  },
  {
   "cell_type": "code",
   "execution_count": 69,
   "metadata": {},
   "outputs": [],
   "source": [
    "k=1\n",
    "m=1\n",
    "n=1\n",
    "o=1"
   ]
  },
  {
   "cell_type": "code",
   "execution_count": 7,
   "metadata": {},
   "outputs": [],
   "source": [
    "columns=df1.columns"
   ]
  },
  {
   "cell_type": "code",
   "execution_count": 85,
   "metadata": {},
   "outputs": [
    {
     "name": "stdout",
     "output_type": "stream",
     "text": [
      "2\n"
     ]
    }
   ],
   "source": [
    "print(len(data))"
   ]
  },
  {
   "cell_type": "code",
   "execution_count": 80,
   "metadata": {},
   "outputs": [
    {
     "name": "stdout",
     "output_type": "stream",
     "text": [
      "sEth\n",
      "dEth\n",
      "typEth\n",
      "Source\n",
      "Destination\n",
      "proto\n",
      "sPort\n",
      "dPort\n",
      "action\n",
      "sEth\n",
      "dEth\n",
      "typEth\n",
      "Source\n",
      "Destination\n",
      "proto\n",
      "sPort\n",
      "dPort\n",
      "action\n"
     ]
    }
   ],
   "source": [
    "for i in range(len(data)) :\n",
    "    #length=len(data[i])\n",
    "    for j in range(len(data[i])) :\n",
    "        print(columns[j])"
   ]
  },
  {
   "cell_type": "code",
   "execution_count": 130,
   "metadata": {},
   "outputs": [],
   "source": [
    "a=['Q34','W34','V34','Z34','X34','R34','N34']\n",
    "b=[]"
   ]
  },
  {
   "cell_type": "code",
   "execution_count": 8,
   "metadata": {},
   "outputs": [],
   "source": [
    "for i in range(len(data)):\n",
    "    length=len(data[i])\n",
    "#for j in range(0,length-3):\n",
    "    #sheet_name1= a[j]\n",
    "    #print(sheet_name1)\n",
    "    #outsheet2=outworkbook.add_worksheet(sheet_name1)\n",
    "   "
   ]
  },
  {
   "cell_type": "code",
   "execution_count": 134,
   "metadata": {},
   "outputs": [
    {
     "name": "stdout",
     "output_type": "stream",
     "text": [
      "<xlsxwriter.worksheet.Worksheet object at 0x04410850>\n"
     ]
    }
   ],
   "source": [
    "print(outsheet2)"
   ]
  },
  {
   "cell_type": "code",
   "execution_count": 9,
   "metadata": {},
   "outputs": [],
   "source": [
    "outworkbook=xlsxwriter.Workbook(\"out.xlsx\")\n",
    "outsheet=outworkbook.add_worksheet()\n",
    "outsheet8=outworkbook.add_worksheet()\n",
    "\n"
   ]
  },
  {
   "cell_type": "code",
   "execution_count": 10,
   "metadata": {},
   "outputs": [],
   "source": [
    "for j in range(1,length-1):\n",
    "    outsheetj=outworkbook.add_worksheet(columns[j])"
   ]
  },
  {
   "cell_type": "code",
   "execution_count": 11,
   "metadata": {},
   "outputs": [
    {
     "data": {
      "text/plain": [
       "{'Sheet1': <xlsxwriter.worksheet.Worksheet at 0x595d4d8>,\n",
       " 'Sheet2': <xlsxwriter.worksheet.Worksheet at 0x3fe0c40>,\n",
       " 'dEth': <xlsxwriter.worksheet.Worksheet at 0x3fe0a60>,\n",
       " 'typEth': <xlsxwriter.worksheet.Worksheet at 0x3fe0c10>,\n",
       " 'Source': <xlsxwriter.worksheet.Worksheet at 0x3fe0c70>,\n",
       " 'Destination': <xlsxwriter.worksheet.Worksheet at 0x3fe0b50>,\n",
       " 'proto': <xlsxwriter.worksheet.Worksheet at 0x3fe0ac0>,\n",
       " 'sPort': <xlsxwriter.worksheet.Worksheet at 0x3fe0cb8>,\n",
       " 'dPort': <xlsxwriter.worksheet.Worksheet at 0x3fe0b08>}"
      ]
     },
     "execution_count": 11,
     "metadata": {},
     "output_type": "execute_result"
    }
   ],
   "source": [
    "outworkbook.sheetnames"
   ]
  },
  {
   "cell_type": "code",
   "execution_count": 12,
   "metadata": {},
   "outputs": [
    {
     "name": "stdout",
     "output_type": "stream",
     "text": [
      "9e:8d:de:80:29:28 - 1\n",
      "1 - ff:ff:ff:ff:ff:ff - 2\n",
      "2 - 0x0800 - 3\n",
      "3 - s1b.time.edu.cn - 4\n",
      "4 - dcape-na.amazon.com - 5\n",
      "5 - 17 - 6\n",
      "6 - 123 - 7\n",
      "7 - 443 - 8\n",
      "8 - forward\n",
      "* - 9\n",
      "9 - 9e:8d:de:80:29:28 - 10\n",
      "10 - 0x0800 - 11\n",
      "11 - fr.pool.ntp.org - 12\n",
      "12 - softwareupdates.amazon.com - 13\n",
      "13 - 17 - 14\n",
      "14 - 123 - 15\n",
      "15 - 80 - 16\n",
      "16 - forward\n"
     ]
    }
   ],
   "source": [
    "counter=1\n",
    "\n",
    "length=len(data)\n",
    "for i in range(len(data)) :\n",
    "    length=len(data[i])\n",
    "    for j in range(len(data[i])) :\n",
    "        if j==0:\n",
    "            print(data[i][j],'-',counter)\n",
    "            outsheet.write(\"A1\",\"sEth\")\n",
    "            outsheet.write(\"B1\",\"state\")\n",
    "            outsheet.write(i+1,0,data[i][j])\n",
    "            #print(i)\n",
    "            #k=k+1\n",
    "            outsheet.write(i+1,1,counter)\n",
    "            #m=m+1\n",
    "            previous_counter=counter\n",
    "            counter=counter+1\n",
    "        elif j==length-1:\n",
    "            print(previous_counter,'-',data[i][j])\n",
    "            outsheet8.write(\"A1\",\"Previous_state\")\n",
    "            outsheet8.write(\"B1\",\"Action\")\n",
    "            outsheet8.write(i+1,0,previous_counter)\n",
    "            #n=n+1\n",
    "            outsheet8.write(i+1,1,data[i][j])\n",
    "            #o=o+1\n",
    "            #counter=counter+1\n",
    "        else:\n",
    "            print(previous_counter,'-',data[i][j],'-',counter)\n",
    "            #outsheetj.write(\"A1\",\"Previous_state\")\n",
    "            #outsheetj.write(\"B1\",columns[j])\n",
    "            #outsheetj.write(\"C1\",\"next_state\")\n",
    "            #outsheetj.write(i+1,0,previous_counter)\n",
    "            #outsheetj.write(i+1,1,data[i][j])\n",
    "            #outsheetj.write(i+1,2,counter)\n",
    "            outworkbook.sheetnames[columns[j]].write(\"A1\",\"Previous_state\")\n",
    "            outworkbook.sheetnames[columns[j]].write(\"B1\", columns[j]) \n",
    "            outworkbook.sheetnames[columns[j]].write(\"C1\",\"next_state\")\n",
    "            outworkbook.sheetnames[columns[j]].write(i+1,0,previous_counter)\n",
    "            outworkbook.sheetnames[columns[j]].write(i+1,1,data[i][j])\n",
    "            outworkbook.sheetnames[columns[j]].write(i+1,2,counter)\n",
    "            #sheet_name1.write()\n",
    "            #sheet_name=columns[j]\n",
    "            #print(column[j])\n",
    "            #worksheet=outworkbook.add_worksheet(sheet_name)\n",
    "            previous_counter=counter\n",
    "            counter=counter+1\n",
    "            "
   ]
  },
  {
   "cell_type": "code",
   "execution_count": 13,
   "metadata": {},
   "outputs": [],
   "source": [
    "outworkbook.close()"
   ]
  },
  {
   "cell_type": "code",
   "execution_count": 22,
   "metadata": {},
   "outputs": [
    {
     "name": "stdout",
     "output_type": "stream",
     "text": [
      "9e:8d:de:80:29:28 - 1\n",
      "1 - ff:ff:ff:ff:ff:ff - 2\n",
      "2 - 0x0800 - 3\n",
      "3 - s1b.time.edu.cn - 4\n",
      "4 - dcape-na.amazon.com - 5\n",
      "5 - 17 - 6\n",
      "6 - 123 - 7\n",
      "7 - 443 - 8\n",
      "8 - forward\n",
      "* - 9\n",
      "9 - 9e:8d:de:80:29:28 - 10\n",
      "10 - 0x0800 - 11\n",
      "11 - fr.pool.ntp.org - 12\n",
      "12 - softwareupdates.amazon.com - 13\n",
      "13 - 17 - 14\n",
      "14 - 123 - 15\n",
      "15 - 80 - 16\n",
      "16 - forward\n"
     ]
    }
   ],
   "source": [
    "counter=1\n",
    "length=len(data)\n",
    "for i in range(len(data)) :\n",
    "    length=len(data[i])\n",
    "    for j in range(len(data[i])) :\n",
    "        if j==0:\n",
    "            print(data[i][j],'-',counter)\n",
    "            #outsheet.write(\"A1\",\"data[i][j]\")\n",
    "            #outsheet.write(\"B1\",\"counter\")\n",
    "            previous_counter=counter\n",
    "            counter=counter+1\n",
    "        elif j==length-1:\n",
    "            print(previous_counter,'-',data[i][j])\n",
    "            #counter=counter+1\n",
    "        else:\n",
    "            print(previous_counter,'-',data[i][j],'-',counter)\n",
    "            previous_counter=counter\n",
    "            counter=counter+1\n",
    "            "
   ]
  },
  {
   "cell_type": "code",
   "execution_count": 16,
   "metadata": {},
   "outputs": [
    {
     "name": "stdout",
     "output_type": "stream",
     "text": [
      "9\n"
     ]
    }
   ],
   "source": [
    "for i in range(len(data)) :\n",
    "    for j in range(len(data[i])) :\n",
    "        length=len(data[i])\n",
    "print(length)"
   ]
  },
  {
   "cell_type": "code",
   "execution_count": null,
   "metadata": {},
   "outputs": [],
   "source": []
  }
 ],
 "metadata": {
  "kernelspec": {
   "display_name": "Python 3",
   "language": "python",
   "name": "python3"
  },
  "language_info": {
   "codemirror_mode": {
    "name": "ipython",
    "version": 3
   },
   "file_extension": ".py",
   "mimetype": "text/x-python",
   "name": "python",
   "nbconvert_exporter": "python",
   "pygments_lexer": "ipython3",
   "version": "3.8.5"
  }
 },
 "nbformat": 4,
 "nbformat_minor": 4
}
